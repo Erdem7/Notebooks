{
 "cells": [
  {
   "cell_type": "code",
   "execution_count": 1,
   "metadata": {
    "_cell_guid": "b1076dfc-b9ad-4769-8c92-a6c4dae69d19",
    "_uuid": "8f2839f25d086af736a60e9eeb907d3b93b6e0e5",
    "execution": {
     "iopub.execute_input": "2021-03-05T19:32:44.043950Z",
     "iopub.status.busy": "2021-03-05T19:32:44.043193Z",
     "iopub.status.idle": "2021-03-05T19:32:45.060658Z",
     "shell.execute_reply": "2021-03-05T19:32:45.059796Z"
    },
    "papermill": {
     "duration": 1.07775,
     "end_time": "2021-03-05T19:32:45.060887",
     "exception": false,
     "start_time": "2021-03-05T19:32:43.983137",
     "status": "completed"
    },
    "tags": []
   },
   "outputs": [
    {
     "name": "stdout",
     "output_type": "stream",
     "text": [
      "/kaggle/input/titanic/train.csv\n",
      "/kaggle/input/titanic/test.csv\n",
      "/kaggle/input/titanic/gender_submission.csv\n"
     ]
    }
   ],
   "source": [
    "# This Python 3 environment comes with many helpful analytics libraries installed\n",
    "# It is defined by the kaggle/python Docker image: https://github.com/kaggle/docker-python\n",
    "# For example, here's several helpful packages to load\n",
    "\n",
    "import numpy as np \n",
    "import pandas as pd \n",
    "import matplotlib.pyplot as plt \n",
    "plt.style.use(\"seaborn-whitegrid\")\n",
    "\n",
    "import seaborn as sns \n",
    "from collections import Counter\n",
    "\n",
    "import warnings \n",
    "warnings.filterwarnings(\"ignore\")\n",
    "# Input data files are available in the read-only \"../input/\" directory\n",
    "# For example, running this (by clicking run or pressing Shift+Enter) will list all files under the input directory\n",
    "\n",
    "import os\n",
    "for dirname, _, filenames in os.walk('/kaggle/input'):\n",
    "    for filename in filenames:\n",
    "        print(os.path.join(dirname, filename))\n",
    "\n",
    "# You can write up to 20GB to the current directory (/kaggle/working/) that gets preserved as output when you create a version using \"Save & Run All\" \n",
    "# You can also write temporary files to /kaggle/temp/, but they won't be saved outside of the current session"
   ]
  },
  {
   "cell_type": "markdown",
   "metadata": {
    "papermill": {
     "duration": 0.049432,
     "end_time": "2021-03-05T19:32:45.159121",
     "exception": false,
     "start_time": "2021-03-05T19:32:45.109689",
     "status": "completed"
    },
    "tags": []
   },
   "source": [
    "# Installation for Spark"
   ]
  },
  {
   "cell_type": "code",
   "execution_count": 2,
   "metadata": {
    "execution": {
     "iopub.execute_input": "2021-03-05T19:32:45.262827Z",
     "iopub.status.busy": "2021-03-05T19:32:45.262087Z",
     "iopub.status.idle": "2021-03-05T19:32:56.200896Z",
     "shell.execute_reply": "2021-03-05T19:32:56.200281Z"
    },
    "papermill": {
     "duration": 10.992789,
     "end_time": "2021-03-05T19:32:56.201051",
     "exception": false,
     "start_time": "2021-03-05T19:32:45.208262",
     "status": "completed"
    },
    "tags": []
   },
   "outputs": [
    {
     "name": "stdout",
     "output_type": "stream",
     "text": [
      "Collecting spark\r\n",
      "  Downloading spark-0.2.1.tar.gz (41 kB)\r\n",
      "\u001b[K     |████████████████████████████████| 41 kB 32 kB/s \r\n",
      "\u001b[?25hBuilding wheels for collected packages: spark\r\n",
      "  Building wheel for spark (setup.py) ... \u001b[?25l-\b \b\\\b \b|\b \bdone\r\n",
      "\u001b[?25h  Created wheel for spark: filename=spark-0.2.1-py3-none-any.whl size=58738 sha256=7f5ac8571b02acbaabecc512fb3f171bea610395ee5a2707cf4a2bb5ee99882d\r\n",
      "  Stored in directory: /root/.cache/pip/wheels/4e/0e/f1/164619f9920fb447d294afaae11a7715bd442ded7225953d72\r\n",
      "Successfully built spark\r\n",
      "Installing collected packages: spark\r\n",
      "Successfully installed spark-0.2.1\r\n"
     ]
    }
   ],
   "source": [
    "!pip install spark"
   ]
  },
  {
   "cell_type": "code",
   "execution_count": 3,
   "metadata": {
    "execution": {
     "iopub.execute_input": "2021-03-05T19:32:56.315030Z",
     "iopub.status.busy": "2021-03-05T19:32:56.313145Z",
     "iopub.status.idle": "2021-03-05T19:33:32.561378Z",
     "shell.execute_reply": "2021-03-05T19:33:32.560655Z"
    },
    "papermill": {
     "duration": 36.30835,
     "end_time": "2021-03-05T19:33:32.561550",
     "exception": false,
     "start_time": "2021-03-05T19:32:56.253200",
     "status": "completed"
    },
    "tags": []
   },
   "outputs": [
    {
     "name": "stdout",
     "output_type": "stream",
     "text": [
      "Collecting pyspark\r\n",
      "  Downloading pyspark-3.1.1.tar.gz (212.3 MB)\r\n",
      "\u001b[K     |████████████████████████████████| 212.3 MB 13 kB/s \r\n",
      "\u001b[?25hCollecting py4j==0.10.9\r\n",
      "  Downloading py4j-0.10.9-py2.py3-none-any.whl (198 kB)\r\n",
      "\u001b[K     |████████████████████████████████| 198 kB 39.3 MB/s \r\n",
      "\u001b[?25hBuilding wheels for collected packages: pyspark\r\n",
      "  Building wheel for pyspark (setup.py) ... \u001b[?25l-\b \b\\\b \b|\b \b/\b \b-\b \b\\\b \b|\b \b/\b \b-\b \b\\\b \b|\b \b/\b \b-\b \b\\\b \b|\b \b/\b \b-\b \b\\\b \b|\b \b/\b \b-\b \b\\\b \b|\b \b/\b \b-\b \b\\\b \b|\b \b/\b \b-\b \b\\\b \b|\b \b/\b \b-\b \b\\\b \b|\b \b/\b \b-\b \b\\\b \b|\b \b/\b \b-\b \b\\\b \b|\b \b/\b \b-\b \b\\\b \b|\b \b/\b \b-\b \b\\\b \b|\b \b/\b \b-\b \b\\\b \b|\b \b/\b \b-\b \b\\\b \b|\b \bdone\r\n",
      "\u001b[?25h  Created wheel for pyspark: filename=pyspark-3.1.1-py2.py3-none-any.whl size=212767604 sha256=6158d366ef09f0ba20fb21ae1d6f22f38db235aa85a26bb3b5f584b1fe531ca1\r\n",
      "  Stored in directory: /root/.cache/pip/wheels/43/47/42/bc413c760cf9d3f7b46ab7cd6590e8c47ebfd19a7386cd4a57\r\n",
      "Successfully built pyspark\r\n",
      "Installing collected packages: py4j, pyspark\r\n",
      "Successfully installed py4j-0.10.9 pyspark-3.1.1\r\n"
     ]
    }
   ],
   "source": [
    "!pip install pyspark"
   ]
  },
  {
   "cell_type": "code",
   "execution_count": 4,
   "metadata": {
    "execution": {
     "iopub.execute_input": "2021-03-05T19:33:32.879650Z",
     "iopub.status.busy": "2021-03-05T19:33:32.878620Z",
     "iopub.status.idle": "2021-03-05T19:33:33.093444Z",
     "shell.execute_reply": "2021-03-05T19:33:33.092892Z"
    },
    "papermill": {
     "duration": 0.373431,
     "end_time": "2021-03-05T19:33:33.093608",
     "exception": false,
     "start_time": "2021-03-05T19:33:32.720177",
     "status": "completed"
    },
    "tags": []
   },
   "outputs": [],
   "source": [
    "from pyspark.sql import SparkSession\n",
    "from pyspark.ml import Pipeline\n",
    "from pyspark.sql.functions import mean,col,split, col, regexp_extract, when, lit\n",
    "from pyspark.ml.feature import StringIndexer\n",
    "from pyspark.ml.feature import VectorAssembler\n",
    "from pyspark.ml.evaluation import MulticlassClassificationEvaluator\n",
    "from pyspark.ml.feature import QuantileDiscretizer"
   ]
  },
  {
   "cell_type": "code",
   "execution_count": 5,
   "metadata": {
    "execution": {
     "iopub.execute_input": "2021-03-05T19:33:33.402523Z",
     "iopub.status.busy": "2021-03-05T19:33:33.401828Z",
     "iopub.status.idle": "2021-03-05T19:33:39.654592Z",
     "shell.execute_reply": "2021-03-05T19:33:39.653357Z"
    },
    "papermill": {
     "duration": 6.408128,
     "end_time": "2021-03-05T19:33:39.654763",
     "exception": false,
     "start_time": "2021-03-05T19:33:33.246635",
     "status": "completed"
    },
    "tags": []
   },
   "outputs": [],
   "source": [
    "spark = SparkSession \\\n",
    "    .builder \\\n",
    "    .appName(\"Spark ,ML and Basic Analysis For Titanic\") \\\n",
    "    .getOrCreate()"
   ]
  },
  {
   "cell_type": "markdown",
   "metadata": {
    "papermill": {
     "duration": 0.150711,
     "end_time": "2021-03-05T19:33:40.013375",
     "exception": false,
     "start_time": "2021-03-05T19:33:39.862664",
     "status": "completed"
    },
    "tags": []
   },
   "source": [
    "# Read File\n"
   ]
  },
  {
   "cell_type": "code",
   "execution_count": 6,
   "metadata": {
    "execution": {
     "iopub.execute_input": "2021-03-05T19:33:40.318861Z",
     "iopub.status.busy": "2021-03-05T19:33:40.318198Z",
     "iopub.status.idle": "2021-03-05T19:33:40.320160Z",
     "shell.execute_reply": "2021-03-05T19:33:40.320694Z"
    },
    "papermill": {
     "duration": 0.157336,
     "end_time": "2021-03-05T19:33:40.320869",
     "exception": false,
     "start_time": "2021-03-05T19:33:40.163533",
     "status": "completed"
    },
    "tags": []
   },
   "outputs": [],
   "source": [
    "Erdem_data = \"/kaggle/input/titanic/train.csv\""
   ]
  },
  {
   "cell_type": "code",
   "execution_count": 7,
   "metadata": {
    "execution": {
     "iopub.execute_input": "2021-03-05T19:33:40.623376Z",
     "iopub.status.busy": "2021-03-05T19:33:40.622757Z",
     "iopub.status.idle": "2021-03-05T19:33:46.145247Z",
     "shell.execute_reply": "2021-03-05T19:33:46.144515Z"
    },
    "papermill": {
     "duration": 5.676783,
     "end_time": "2021-03-05T19:33:46.145399",
     "exception": false,
     "start_time": "2021-03-05T19:33:40.468616",
     "status": "completed"
    },
    "tags": []
   },
   "outputs": [],
   "source": [
    "titanic_df = spark.read.csv(Erdem_data,header = 'True',inferSchema='True')"
   ]
  },
  {
   "cell_type": "code",
   "execution_count": 8,
   "metadata": {
    "execution": {
     "iopub.execute_input": "2021-03-05T19:33:46.471312Z",
     "iopub.status.busy": "2021-03-05T19:33:46.470256Z",
     "iopub.status.idle": "2021-03-05T19:33:46.510822Z",
     "shell.execute_reply": "2021-03-05T19:33:46.511806Z"
    },
    "papermill": {
     "duration": 0.206244,
     "end_time": "2021-03-05T19:33:46.512008",
     "exception": false,
     "start_time": "2021-03-05T19:33:46.305764",
     "status": "completed"
    },
    "tags": []
   },
   "outputs": [
    {
     "data": {
      "text/plain": [
       "DataFrame[PassengerId: int, Survived: int, Pclass: int, Name: string, Sex: string, Age: double, SibSp: int, Parch: int, Ticket: string, Fare: double, Cabin: string, Embarked: string]"
      ]
     },
     "metadata": {},
     "output_type": "display_data"
    }
   ],
   "source": [
    "display(titanic_df)"
   ]
  },
  {
   "cell_type": "code",
   "execution_count": 9,
   "metadata": {
    "execution": {
     "iopub.execute_input": "2021-03-05T19:33:46.826990Z",
     "iopub.status.busy": "2021-03-05T19:33:46.825950Z",
     "iopub.status.idle": "2021-03-05T19:33:46.836482Z",
     "shell.execute_reply": "2021-03-05T19:33:46.835709Z"
    },
    "papermill": {
     "duration": 0.166971,
     "end_time": "2021-03-05T19:33:46.836727",
     "exception": false,
     "start_time": "2021-03-05T19:33:46.669756",
     "status": "completed"
    },
    "tags": []
   },
   "outputs": [
    {
     "name": "stdout",
     "output_type": "stream",
     "text": [
      "root\n",
      " |-- PassengerId: integer (nullable = true)\n",
      " |-- Survived: integer (nullable = true)\n",
      " |-- Pclass: integer (nullable = true)\n",
      " |-- Name: string (nullable = true)\n",
      " |-- Sex: string (nullable = true)\n",
      " |-- Age: double (nullable = true)\n",
      " |-- SibSp: integer (nullable = true)\n",
      " |-- Parch: integer (nullable = true)\n",
      " |-- Ticket: string (nullable = true)\n",
      " |-- Fare: double (nullable = true)\n",
      " |-- Cabin: string (nullable = true)\n",
      " |-- Embarked: string (nullable = true)\n",
      "\n"
     ]
    }
   ],
   "source": [
    "titanic_df.printSchema()"
   ]
  },
  {
   "cell_type": "markdown",
   "metadata": {
    "papermill": {
     "duration": 0.158002,
     "end_time": "2021-03-05T19:33:47.145904",
     "exception": false,
     "start_time": "2021-03-05T19:33:46.987902",
     "status": "completed"
    },
    "tags": []
   },
   "source": [
    "### Count of Passengers"
   ]
  },
  {
   "cell_type": "code",
   "execution_count": 10,
   "metadata": {
    "execution": {
     "iopub.execute_input": "2021-03-05T19:33:47.460296Z",
     "iopub.status.busy": "2021-03-05T19:33:47.459159Z",
     "iopub.status.idle": "2021-03-05T19:33:48.133134Z",
     "shell.execute_reply": "2021-03-05T19:33:48.131631Z"
    },
    "papermill": {
     "duration": 0.830159,
     "end_time": "2021-03-05T19:33:48.133379",
     "exception": false,
     "start_time": "2021-03-05T19:33:47.303220",
     "status": "completed"
    },
    "tags": []
   },
   "outputs": [
    {
     "name": "stdout",
     "output_type": "stream",
     "text": [
      "891\n"
     ]
    }
   ],
   "source": [
    "passengers_count = titanic_df.count()\n",
    "print(passengers_count)"
   ]
  },
  {
   "cell_type": "code",
   "execution_count": 11,
   "metadata": {
    "execution": {
     "iopub.execute_input": "2021-03-05T19:33:48.453834Z",
     "iopub.status.busy": "2021-03-05T19:33:48.452761Z",
     "iopub.status.idle": "2021-03-05T19:33:48.935410Z",
     "shell.execute_reply": "2021-03-05T19:33:48.934479Z"
    },
    "papermill": {
     "duration": 0.63845,
     "end_time": "2021-03-05T19:33:48.935674",
     "exception": false,
     "start_time": "2021-03-05T19:33:48.297224",
     "status": "completed"
    },
    "tags": []
   },
   "outputs": [
    {
     "name": "stdout",
     "output_type": "stream",
     "text": [
      "+-----------+--------+------+--------------------+------+----+-----+-----+----------------+-------+-----+--------+\n",
      "|PassengerId|Survived|Pclass|                Name|   Sex| Age|SibSp|Parch|          Ticket|   Fare|Cabin|Embarked|\n",
      "+-----------+--------+------+--------------------+------+----+-----+-----+----------------+-------+-----+--------+\n",
      "|          1|       0|     3|Braund, Mr. Owen ...|  male|22.0|    1|    0|       A/5 21171|   7.25| null|       S|\n",
      "|          2|       1|     1|Cumings, Mrs. Joh...|female|38.0|    1|    0|        PC 17599|71.2833|  C85|       C|\n",
      "|          3|       1|     3|Heikkinen, Miss. ...|female|26.0|    0|    0|STON/O2. 3101282|  7.925| null|       S|\n",
      "|          4|       1|     1|Futrelle, Mrs. Ja...|female|35.0|    1|    0|          113803|   53.1| C123|       S|\n",
      "|          5|       0|     3|Allen, Mr. Willia...|  male|35.0|    0|    0|          373450|   8.05| null|       S|\n",
      "+-----------+--------+------+--------------------+------+----+-----+-----+----------------+-------+-----+--------+\n",
      "only showing top 5 rows\n",
      "\n"
     ]
    }
   ],
   "source": [
    "titanic_df.show(5)"
   ]
  },
  {
   "cell_type": "code",
   "execution_count": 12,
   "metadata": {
    "execution": {
     "iopub.execute_input": "2021-03-05T19:33:49.266359Z",
     "iopub.status.busy": "2021-03-05T19:33:49.265391Z",
     "iopub.status.idle": "2021-03-05T19:33:51.677801Z",
     "shell.execute_reply": "2021-03-05T19:33:51.677084Z"
    },
    "papermill": {
     "duration": 2.573248,
     "end_time": "2021-03-05T19:33:51.677969",
     "exception": false,
     "start_time": "2021-03-05T19:33:49.104721",
     "status": "completed"
    },
    "scrolled": true,
    "tags": []
   },
   "outputs": [
    {
     "name": "stdout",
     "output_type": "stream",
     "text": [
      "+-------+-----------------+-------------------+------------------+--------------------+------+------------------+------------------+-------------------+------------------+-----------------+-----+--------+\n",
      "|summary|      PassengerId|           Survived|            Pclass|                Name|   Sex|               Age|             SibSp|              Parch|            Ticket|             Fare|Cabin|Embarked|\n",
      "+-------+-----------------+-------------------+------------------+--------------------+------+------------------+------------------+-------------------+------------------+-----------------+-----+--------+\n",
      "|  count|              891|                891|               891|                 891|   891|               714|               891|                891|               891|              891|  204|     889|\n",
      "|   mean|            446.0| 0.3838383838383838| 2.308641975308642|                null|  null| 29.69911764705882|0.5230078563411896|0.38159371492704824|260318.54916792738| 32.2042079685746| null|    null|\n",
      "| stddev|257.3538420152301|0.48659245426485753|0.8360712409770491|                null|  null|14.526497332334035|1.1027434322934315| 0.8060572211299488|471609.26868834975|49.69342859718089| null|    null|\n",
      "|    min|                1|                  0|                 1|\"Andersson, Mr. A...|female|              0.42|                 0|                  0|            110152|              0.0|  A10|       C|\n",
      "|    max|              891|                  1|                 3|van Melkebeke, Mr...|  male|              80.0|                 8|                  6|         WE/P 5735|         512.3292|    T|       S|\n",
      "+-------+-----------------+-------------------+------------------+--------------------+------+------------------+------------------+-------------------+------------------+-----------------+-----+--------+\n",
      "\n"
     ]
    }
   ],
   "source": [
    "titanic_df.describe().show()"
   ]
  },
  {
   "cell_type": "code",
   "execution_count": 13,
   "metadata": {
    "execution": {
     "iopub.execute_input": "2021-03-05T19:33:52.005053Z",
     "iopub.status.busy": "2021-03-05T19:33:52.003732Z",
     "iopub.status.idle": "2021-03-05T19:33:52.009750Z",
     "shell.execute_reply": "2021-03-05T19:33:52.010209Z"
    },
    "papermill": {
     "duration": 0.166921,
     "end_time": "2021-03-05T19:33:52.010390",
     "exception": false,
     "start_time": "2021-03-05T19:33:51.843469",
     "status": "completed"
    },
    "tags": []
   },
   "outputs": [
    {
     "name": "stdout",
     "output_type": "stream",
     "text": [
      "root\n",
      " |-- PassengerId: integer (nullable = true)\n",
      " |-- Survived: integer (nullable = true)\n",
      " |-- Pclass: integer (nullable = true)\n",
      " |-- Name: string (nullable = true)\n",
      " |-- Sex: string (nullable = true)\n",
      " |-- Age: double (nullable = true)\n",
      " |-- SibSp: integer (nullable = true)\n",
      " |-- Parch: integer (nullable = true)\n",
      " |-- Ticket: string (nullable = true)\n",
      " |-- Fare: double (nullable = true)\n",
      " |-- Cabin: string (nullable = true)\n",
      " |-- Embarked: string (nullable = true)\n",
      "\n"
     ]
    }
   ],
   "source": [
    "titanic_df.printSchema()"
   ]
  },
  {
   "cell_type": "markdown",
   "metadata": {
    "papermill": {
     "duration": 0.152852,
     "end_time": "2021-03-05T19:33:52.316979",
     "exception": false,
     "start_time": "2021-03-05T19:33:52.164127",
     "status": "completed"
    },
    "tags": []
   },
   "source": [
    "#  **Basic Analysis & Visualization**"
   ]
  },
  {
   "cell_type": "code",
   "execution_count": 14,
   "metadata": {
    "execution": {
     "iopub.execute_input": "2021-03-05T19:33:52.640639Z",
     "iopub.status.busy": "2021-03-05T19:33:52.639934Z",
     "iopub.status.idle": "2021-03-05T19:33:52.865228Z",
     "shell.execute_reply": "2021-03-05T19:33:52.862470Z"
    },
    "papermill": {
     "duration": 0.389007,
     "end_time": "2021-03-05T19:33:52.865752",
     "exception": false,
     "start_time": "2021-03-05T19:33:52.476745",
     "status": "completed"
    },
    "tags": []
   },
   "outputs": [
    {
     "name": "stdout",
     "output_type": "stream",
     "text": [
      "+--------+------+--------+\n",
      "|Survived|Pclass|Embarked|\n",
      "+--------+------+--------+\n",
      "|       0|     3|       S|\n",
      "|       1|     1|       C|\n",
      "|       1|     3|       S|\n",
      "|       1|     1|       S|\n",
      "|       0|     3|       S|\n",
      "|       0|     3|       Q|\n",
      "|       0|     1|       S|\n",
      "|       0|     3|       S|\n",
      "|       1|     3|       S|\n",
      "|       1|     2|       C|\n",
      "|       1|     3|       S|\n",
      "|       1|     1|       S|\n",
      "|       0|     3|       S|\n",
      "|       0|     3|       S|\n",
      "|       0|     3|       S|\n",
      "|       1|     2|       S|\n",
      "|       0|     3|       Q|\n",
      "|       1|     2|       S|\n",
      "|       0|     3|       S|\n",
      "|       1|     3|       C|\n",
      "+--------+------+--------+\n",
      "only showing top 20 rows\n",
      "\n"
     ]
    }
   ],
   "source": [
    "titanic_df.select(\"Survived\",\"Pclass\",\"Embarked\").show()"
   ]
  },
  {
   "cell_type": "code",
   "execution_count": 15,
   "metadata": {
    "execution": {
     "iopub.execute_input": "2021-03-05T19:33:53.261971Z",
     "iopub.status.busy": "2021-03-05T19:33:53.260912Z",
     "iopub.status.idle": "2021-03-05T19:33:55.326188Z",
     "shell.execute_reply": "2021-03-05T19:33:55.325087Z"
    },
    "papermill": {
     "duration": 2.230655,
     "end_time": "2021-03-05T19:33:55.326474",
     "exception": false,
     "start_time": "2021-03-05T19:33:53.095819",
     "status": "completed"
    },
    "tags": []
   },
   "outputs": [
    {
     "name": "stdout",
     "output_type": "stream",
     "text": [
      "+--------+-----+\n",
      "|Survived|count|\n",
      "+--------+-----+\n",
      "|       1|  342|\n",
      "|       0|  549|\n",
      "+--------+-----+\n",
      "\n"
     ]
    }
   ],
   "source": [
    "titanic_df.groupBy(\"Survived\").count().show()"
   ]
  },
  {
   "cell_type": "code",
   "execution_count": 16,
   "metadata": {
    "execution": {
     "iopub.execute_input": "2021-03-05T19:33:55.797772Z",
     "iopub.status.busy": "2021-03-05T19:33:55.796768Z",
     "iopub.status.idle": "2021-03-05T19:33:55.822858Z",
     "shell.execute_reply": "2021-03-05T19:33:55.823634Z"
    },
    "papermill": {
     "duration": 0.286354,
     "end_time": "2021-03-05T19:33:55.823902",
     "exception": false,
     "start_time": "2021-03-05T19:33:55.537548",
     "status": "completed"
    },
    "tags": []
   },
   "outputs": [
    {
     "data": {
      "text/plain": [
       "DataFrame[Survived: int, count: bigint]"
      ]
     },
     "metadata": {},
     "output_type": "display_data"
    }
   ],
   "source": [
    "groupBy_output = titanic_df.groupBy(\"Survived\").count()\n",
    "display(groupBy_output)"
   ]
  },
  {
   "cell_type": "code",
   "execution_count": 17,
   "metadata": {
    "execution": {
     "iopub.execute_input": "2021-03-05T19:33:56.199654Z",
     "iopub.status.busy": "2021-03-05T19:33:56.198922Z",
     "iopub.status.idle": "2021-03-05T19:33:57.587736Z",
     "shell.execute_reply": "2021-03-05T19:33:57.586469Z"
    },
    "papermill": {
     "duration": 1.548965,
     "end_time": "2021-03-05T19:33:57.587961",
     "exception": false,
     "start_time": "2021-03-05T19:33:56.038996",
     "status": "completed"
    },
    "tags": []
   },
   "outputs": [
    {
     "name": "stdout",
     "output_type": "stream",
     "text": [
      "+------+--------+-----+\n",
      "|   Sex|Survived|count|\n",
      "+------+--------+-----+\n",
      "|  male|       0|  468|\n",
      "|female|       1|  233|\n",
      "|female|       0|   81|\n",
      "|  male|       1|  109|\n",
      "+------+--------+-----+\n",
      "\n"
     ]
    }
   ],
   "source": [
    "# Sex & Survived\n",
    "titanic_df.groupBy(\"Sex\",\"Survived\").count().show()"
   ]
  },
  {
   "cell_type": "code",
   "execution_count": 18,
   "metadata": {
    "execution": {
     "iopub.execute_input": "2021-03-05T19:33:57.931274Z",
     "iopub.status.busy": "2021-03-05T19:33:57.930275Z",
     "iopub.status.idle": "2021-03-05T19:33:57.974959Z",
     "shell.execute_reply": "2021-03-05T19:33:57.974258Z"
    },
    "papermill": {
     "duration": 0.214159,
     "end_time": "2021-03-05T19:33:57.975119",
     "exception": false,
     "start_time": "2021-03-05T19:33:57.760960",
     "status": "completed"
    },
    "tags": []
   },
   "outputs": [],
   "source": [
    "Fare_order=titanic_df.filter(titanic_df.SibSp > 0).groupby(\"SibSp\").sum(\"Fare\")"
   ]
  },
  {
   "cell_type": "code",
   "execution_count": 19,
   "metadata": {
    "execution": {
     "iopub.execute_input": "2021-03-05T19:33:58.298061Z",
     "iopub.status.busy": "2021-03-05T19:33:58.297085Z",
     "iopub.status.idle": "2021-03-05T19:34:00.771918Z",
     "shell.execute_reply": "2021-03-05T19:34:00.771359Z"
    },
    "papermill": {
     "duration": 2.636335,
     "end_time": "2021-03-05T19:34:00.772087",
     "exception": false,
     "start_time": "2021-03-05T19:33:58.135752",
     "status": "completed"
    },
    "tags": []
   },
   "outputs": [
    {
     "name": "stdout",
     "output_type": "stream",
     "text": [
      "+-----+------------------+\n",
      "|SibSp|         sum(Fare)|\n",
      "+-----+------------------+\n",
      "|    1|         9226.8004|\n",
      "|    3|         1102.5418|\n",
      "|    5|             234.5|\n",
      "|    4| 573.3999999999999|\n",
      "|    8|            486.85|\n",
      "|    2|         1449.1041|\n",
      "|    0|15620.752999999993|\n",
      "+-----+------------------+\n",
      "\n"
     ]
    },
    {
     "data": {
      "image/png": "[encoded data removed]",
      "text/plain": [
       "<Figure size 360x360 with 1 Axes>"
      ]
     },
     "metadata": {},
     "output_type": "display_data"
    }
   ],
   "source": [
    "# SibSp & Fare  (Visualization)\n",
    "Fifth = titanic_df.groupBy(\"SibSp\")\n",
    "Fifth.agg({'Fare':'sum'}).show()\n",
    "\n",
    "Vis_fifth=Fare_order.toPandas()\n",
    "Vis_fifth=Vis_fifth.reset_index()\n",
    "Fare=sns.factorplot(data=Vis_fifth,x=\"SibSp\",y=\"sum(Fare)\",kind=\"bar\",size=5)\n",
    "plt.show()"
   ]
  },
  {
   "cell_type": "code",
   "execution_count": 20,
   "metadata": {
    "execution": {
     "iopub.execute_input": "2021-03-05T19:34:01.099650Z",
     "iopub.status.busy": "2021-03-05T19:34:01.098982Z",
     "iopub.status.idle": "2021-03-05T19:34:01.584407Z",
     "shell.execute_reply": "2021-03-05T19:34:01.583475Z"
    },
    "papermill": {
     "duration": 0.645665,
     "end_time": "2021-03-05T19:34:01.584640",
     "exception": false,
     "start_time": "2021-03-05T19:34:00.938975",
     "status": "completed"
    },
    "tags": []
   },
   "outputs": [
    {
     "data": {
      "image/png": "[encoded data removed]",
      "text/plain": [
       "<Figure size 288x288 with 1 Axes>"
      ]
     },
     "metadata": {},
     "output_type": "display_data"
    }
   ],
   "source": [
    "# Pclass & Age (Visualization)\n",
    "Sixth_vis=titanic_df.toPandas()\n",
    "Pclass=sns.factorplot(data=Sixth_vis,x=\"Pclass\",y=\"Age\",kind=\"bar\",size=4)\n",
    "plt.show()"
   ]
  },
  {
   "cell_type": "markdown",
   "metadata": {
    "papermill": {
     "duration": 0.173552,
     "end_time": "2021-03-05T19:34:01.945094",
     "exception": false,
     "start_time": "2021-03-05T19:34:01.771542",
     "status": "completed"
    },
    "tags": []
   },
   "source": [
    "# **Checking Null Values**"
   ]
  },
  {
   "cell_type": "code",
   "execution_count": 21,
   "metadata": {
    "execution": {
     "iopub.execute_input": "2021-03-05T19:34:02.274178Z",
     "iopub.status.busy": "2021-03-05T19:34:02.272482Z",
     "iopub.status.idle": "2021-03-05T19:34:02.274910Z",
     "shell.execute_reply": "2021-03-05T19:34:02.275399Z"
    },
    "papermill": {
     "duration": 0.170141,
     "end_time": "2021-03-05T19:34:02.275593",
     "exception": false,
     "start_time": "2021-03-05T19:34:02.105452",
     "status": "completed"
    },
    "tags": []
   },
   "outputs": [],
   "source": [
    "def null_value_count(df):\n",
    "  null_columns_counts = []\n",
    "  numRows = df.count()\n",
    "  for k in df.columns:\n",
    "    nullRows = df.where(col(k).isNull()).count()\n",
    "    if(nullRows > 0):\n",
    "      temp = k,nullRows\n",
    "      null_columns_counts.append(temp)\n",
    "  return(null_columns_counts)"
   ]
  },
  {
   "cell_type": "code",
   "execution_count": 22,
   "metadata": {
    "execution": {
     "iopub.execute_input": "2021-03-05T19:34:02.602201Z",
     "iopub.status.busy": "2021-03-05T19:34:02.601120Z",
     "iopub.status.idle": "2021-03-05T19:34:04.650681Z",
     "shell.execute_reply": "2021-03-05T19:34:04.649248Z"
    },
    "papermill": {
     "duration": 2.215973,
     "end_time": "2021-03-05T19:34:04.650895",
     "exception": false,
     "start_time": "2021-03-05T19:34:02.434922",
     "status": "completed"
    },
    "tags": []
   },
   "outputs": [],
   "source": [
    "null_columns_count_list = null_value_count(titanic_df)"
   ]
  },
  {
   "cell_type": "code",
   "execution_count": 23,
   "metadata": {
    "execution": {
     "iopub.execute_input": "2021-03-05T19:34:05.025319Z",
     "iopub.status.busy": "2021-03-05T19:34:05.024642Z",
     "iopub.status.idle": "2021-03-05T19:34:05.876214Z",
     "shell.execute_reply": "2021-03-05T19:34:05.873997Z"
    },
    "papermill": {
     "duration": 1.016858,
     "end_time": "2021-03-05T19:34:05.876540",
     "exception": false,
     "start_time": "2021-03-05T19:34:04.859682",
     "status": "completed"
    },
    "tags": []
   },
   "outputs": [
    {
     "name": "stdout",
     "output_type": "stream",
     "text": [
      "+----------------------+-----------------+\n",
      "|Column_With_Null_Value|Null_Values_Count|\n",
      "+----------------------+-----------------+\n",
      "|                   Age|              177|\n",
      "|                 Cabin|              687|\n",
      "|              Embarked|                2|\n",
      "+----------------------+-----------------+\n",
      "\n"
     ]
    }
   ],
   "source": [
    "spark.createDataFrame(null_columns_count_list, ['Column_With_Null_Value', 'Null_Values_Count']).show()"
   ]
  },
  {
   "cell_type": "markdown",
   "metadata": {
    "papermill": {
     "duration": 0.16371,
     "end_time": "2021-03-05T19:34:06.211838",
     "exception": false,
     "start_time": "2021-03-05T19:34:06.048128",
     "status": "completed"
    },
    "tags": []
   },
   "source": [
    "### Age feature has 177 null values."
   ]
  },
  {
   "cell_type": "code",
   "execution_count": 24,
   "metadata": {
    "execution": {
     "iopub.execute_input": "2021-03-05T19:34:06.537875Z",
     "iopub.status.busy": "2021-03-05T19:34:06.536801Z",
     "iopub.status.idle": "2021-03-05T19:34:06.675002Z",
     "shell.execute_reply": "2021-03-05T19:34:06.675987Z"
    },
    "papermill": {
     "duration": 0.304633,
     "end_time": "2021-03-05T19:34:06.676227",
     "exception": false,
     "start_time": "2021-03-05T19:34:06.371594",
     "status": "completed"
    },
    "tags": []
   },
   "outputs": [
    {
     "name": "stdout",
     "output_type": "stream",
     "text": [
      "29.69911764705882\n"
     ]
    }
   ],
   "source": [
    "mean_age = titanic_df.select(mean('Age')).collect()[0][0]\n",
    "print(mean_age)"
   ]
  },
  {
   "cell_type": "code",
   "execution_count": 25,
   "metadata": {
    "execution": {
     "iopub.execute_input": "2021-03-05T19:34:07.058844Z",
     "iopub.status.busy": "2021-03-05T19:34:07.057110Z",
     "iopub.status.idle": "2021-03-05T19:34:07.198008Z",
     "shell.execute_reply": "2021-03-05T19:34:07.195520Z"
    },
    "papermill": {
     "duration": 0.313158,
     "end_time": "2021-03-05T19:34:07.198241",
     "exception": false,
     "start_time": "2021-03-05T19:34:06.885083",
     "status": "completed"
    },
    "tags": []
   },
   "outputs": [
    {
     "name": "stdout",
     "output_type": "stream",
     "text": [
      "+--------------------+\n",
      "|                Name|\n",
      "+--------------------+\n",
      "|Braund, Mr. Owen ...|\n",
      "|Cumings, Mrs. Joh...|\n",
      "|Heikkinen, Miss. ...|\n",
      "|Futrelle, Mrs. Ja...|\n",
      "|Allen, Mr. Willia...|\n",
      "|    Moran, Mr. James|\n",
      "|McCarthy, Mr. Tim...|\n",
      "|Palsson, Master. ...|\n",
      "|Johnson, Mrs. Osc...|\n",
      "|Nasser, Mrs. Nich...|\n",
      "|Sandstrom, Miss. ...|\n",
      "|Bonnell, Miss. El...|\n",
      "|Saundercock, Mr. ...|\n",
      "|Andersson, Mr. An...|\n",
      "|Vestrom, Miss. Hu...|\n",
      "|Hewlett, Mrs. (Ma...|\n",
      "|Rice, Master. Eugene|\n",
      "|Williams, Mr. Cha...|\n",
      "|Vander Planke, Mr...|\n",
      "|Masselmani, Mrs. ...|\n",
      "+--------------------+\n",
      "only showing top 20 rows\n",
      "\n"
     ]
    }
   ],
   "source": [
    "titanic_df.select(\"Name\").show()"
   ]
  },
  {
   "cell_type": "markdown",
   "metadata": {
    "papermill": {
     "duration": 0.168838,
     "end_time": "2021-03-05T19:34:07.585703",
     "exception": false,
     "start_time": "2021-03-05T19:34:07.416865",
     "status": "completed"
    },
    "tags": []
   },
   "source": [
    "### To replace these NaN values, we can assign them the mean age of the dataset.But the problem is, there were many people with many different ages. We just cant assign a 4 year kid with the mean age that is 29 years."
   ]
  },
  {
   "cell_type": "markdown",
   "metadata": {
    "papermill": {
     "duration": 0.165484,
     "end_time": "2021-03-05T19:34:07.914681",
     "exception": false,
     "start_time": "2021-03-05T19:34:07.749197",
     "status": "completed"
    },
    "tags": []
   },
   "source": [
    "### We can check the Name feature. Looking upon the feature, we can see that the names have a salutation like Mr or Mrs. Thus we can assign the mean values of Mr and Mrs to the respective groups****"
   ]
  },
  {
   "cell_type": "code",
   "execution_count": 26,
   "metadata": {
    "execution": {
     "iopub.execute_input": "2021-03-05T19:34:08.254613Z",
     "iopub.status.busy": "2021-03-05T19:34:08.253927Z",
     "iopub.status.idle": "2021-03-05T19:34:08.287150Z",
     "shell.execute_reply": "2021-03-05T19:34:08.286598Z"
    },
    "papermill": {
     "duration": 0.207244,
     "end_time": "2021-03-05T19:34:08.287310",
     "exception": false,
     "start_time": "2021-03-05T19:34:08.080066",
     "status": "completed"
    },
    "tags": []
   },
   "outputs": [],
   "source": [
    "titanic_df = titanic_df.withColumn(\"Initial\",regexp_extract(col(\"Name\"),\"([A-Za-z]+)\\.\",1))"
   ]
  },
  {
   "cell_type": "markdown",
   "metadata": {
    "papermill": {
     "duration": 0.161346,
     "end_time": "2021-03-05T19:34:08.613609",
     "exception": false,
     "start_time": "2021-03-05T19:34:08.452263",
     "status": "completed"
    },
    "tags": []
   },
   "source": [
    "### Using the Regex \"\"[A-Za-z]+).\" we extract the initials from the Name. It looks for strings which lie between A-Z or a-z and followed by a .(dot)."
   ]
  },
  {
   "cell_type": "code",
   "execution_count": 27,
   "metadata": {
    "execution": {
     "iopub.execute_input": "2021-03-05T19:34:08.944355Z",
     "iopub.status.busy": "2021-03-05T19:34:08.943221Z",
     "iopub.status.idle": "2021-03-05T19:34:09.074766Z",
     "shell.execute_reply": "2021-03-05T19:34:09.073820Z"
    },
    "papermill": {
     "duration": 0.300641,
     "end_time": "2021-03-05T19:34:09.075005",
     "exception": false,
     "start_time": "2021-03-05T19:34:08.774364",
     "status": "completed"
    },
    "tags": []
   },
   "outputs": [
    {
     "name": "stdout",
     "output_type": "stream",
     "text": [
      "+-----------+--------+------+--------------------+------+----+-----+-----+----------------+-------+-----+--------+-------+\n",
      "|PassengerId|Survived|Pclass|                Name|   Sex| Age|SibSp|Parch|          Ticket|   Fare|Cabin|Embarked|Initial|\n",
      "+-----------+--------+------+--------------------+------+----+-----+-----+----------------+-------+-----+--------+-------+\n",
      "|          1|       0|     3|Braund, Mr. Owen ...|  male|22.0|    1|    0|       A/5 21171|   7.25| null|       S|     Mr|\n",
      "|          2|       1|     1|Cumings, Mrs. Joh...|female|38.0|    1|    0|        PC 17599|71.2833|  C85|       C|    Mrs|\n",
      "|          3|       1|     3|Heikkinen, Miss. ...|female|26.0|    0|    0|STON/O2. 3101282|  7.925| null|       S|   Miss|\n",
      "|          4|       1|     1|Futrelle, Mrs. Ja...|female|35.0|    1|    0|          113803|   53.1| C123|       S|    Mrs|\n",
      "|          5|       0|     3|Allen, Mr. Willia...|  male|35.0|    0|    0|          373450|   8.05| null|       S|     Mr|\n",
      "|          6|       0|     3|    Moran, Mr. James|  male|null|    0|    0|          330877| 8.4583| null|       Q|     Mr|\n",
      "|          7|       0|     1|McCarthy, Mr. Tim...|  male|54.0|    0|    0|           17463|51.8625|  E46|       S|     Mr|\n",
      "|          8|       0|     3|Palsson, Master. ...|  male| 2.0|    3|    1|          349909| 21.075| null|       S| Master|\n",
      "|          9|       1|     3|Johnson, Mrs. Osc...|female|27.0|    0|    2|          347742|11.1333| null|       S|    Mrs|\n",
      "|         10|       1|     2|Nasser, Mrs. Nich...|female|14.0|    1|    0|          237736|30.0708| null|       C|    Mrs|\n",
      "|         11|       1|     3|Sandstrom, Miss. ...|female| 4.0|    1|    1|         PP 9549|   16.7|   G6|       S|   Miss|\n",
      "|         12|       1|     1|Bonnell, Miss. El...|female|58.0|    0|    0|          113783|  26.55| C103|       S|   Miss|\n",
      "|         13|       0|     3|Saundercock, Mr. ...|  male|20.0|    0|    0|       A/5. 2151|   8.05| null|       S|     Mr|\n",
      "|         14|       0|     3|Andersson, Mr. An...|  male|39.0|    1|    5|          347082| 31.275| null|       S|     Mr|\n",
      "|         15|       0|     3|Vestrom, Miss. Hu...|female|14.0|    0|    0|          350406| 7.8542| null|       S|   Miss|\n",
      "|         16|       1|     2|Hewlett, Mrs. (Ma...|female|55.0|    0|    0|          248706|   16.0| null|       S|    Mrs|\n",
      "|         17|       0|     3|Rice, Master. Eugene|  male| 2.0|    4|    1|          382652| 29.125| null|       Q| Master|\n",
      "|         18|       1|     2|Williams, Mr. Cha...|  male|null|    0|    0|          244373|   13.0| null|       S|     Mr|\n",
      "|         19|       0|     3|Vander Planke, Mr...|female|31.0|    1|    0|          345763|   18.0| null|       S|    Mrs|\n",
      "|         20|       1|     3|Masselmani, Mrs. ...|female|null|    0|    0|            2649|  7.225| null|       C|    Mrs|\n",
      "+-----------+--------+------+--------------------+------+----+-----+-----+----------------+-------+-----+--------+-------+\n",
      "only showing top 20 rows\n",
      "\n"
     ]
    }
   ],
   "source": [
    "titanic_df.show()"
   ]
  },
  {
   "cell_type": "code",
   "execution_count": 28,
   "metadata": {
    "execution": {
     "iopub.execute_input": "2021-03-05T19:34:09.450312Z",
     "iopub.status.busy": "2021-03-05T19:34:09.449606Z",
     "iopub.status.idle": "2021-03-05T19:34:10.334745Z",
     "shell.execute_reply": "2021-03-05T19:34:10.333380Z"
    },
    "papermill": {
     "duration": 1.059263,
     "end_time": "2021-03-05T19:34:10.335021",
     "exception": false,
     "start_time": "2021-03-05T19:34:09.275758",
     "status": "completed"
    },
    "tags": []
   },
   "outputs": [
    {
     "name": "stdout",
     "output_type": "stream",
     "text": [
      "+--------+\n",
      "| Initial|\n",
      "+--------+\n",
      "|     Don|\n",
      "|    Miss|\n",
      "|Countess|\n",
      "|     Col|\n",
      "|     Rev|\n",
      "|    Lady|\n",
      "|  Master|\n",
      "|     Mme|\n",
      "|    Capt|\n",
      "|      Mr|\n",
      "|      Dr|\n",
      "|     Mrs|\n",
      "|     Sir|\n",
      "|Jonkheer|\n",
      "|    Mlle|\n",
      "|   Major|\n",
      "|      Ms|\n",
      "+--------+\n",
      "\n"
     ]
    }
   ],
   "source": [
    "titanic_df.select(\"Initial\").distinct().show()"
   ]
  },
  {
   "cell_type": "markdown",
   "metadata": {
    "papermill": {
     "duration": 0.196299,
     "end_time": "2021-03-05T19:34:10.706553",
     "exception": false,
     "start_time": "2021-03-05T19:34:10.510254",
     "status": "completed"
    },
    "tags": []
   },
   "source": [
    "### There are some misspelled Initials like Mlle or Mme that stand for Miss. I will replace them with Miss and same thing for other values."
   ]
  },
  {
   "cell_type": "code",
   "execution_count": 29,
   "metadata": {
    "execution": {
     "iopub.execute_input": "2021-03-05T19:34:11.036368Z",
     "iopub.status.busy": "2021-03-05T19:34:11.035732Z",
     "iopub.status.idle": "2021-03-05T19:34:11.141597Z",
     "shell.execute_reply": "2021-03-05T19:34:11.140823Z"
    },
    "papermill": {
     "duration": 0.273211,
     "end_time": "2021-03-05T19:34:11.141809",
     "exception": false,
     "start_time": "2021-03-05T19:34:10.868598",
     "status": "completed"
    },
    "tags": []
   },
   "outputs": [],
   "source": [
    "titanic_df = titanic_df.replace(['Mlle','Mme', 'Ms', 'Dr','Major','Lady','Countess','Jonkheer','Col','Rev','Capt','Sir','Don'],\n",
    "               ['Miss','Miss','Miss','Mr','Mr',  'Mrs',  'Mrs',  'Other',  'Other','Other','Mr','Mr','Mr'])"
   ]
  },
  {
   "cell_type": "code",
   "execution_count": 30,
   "metadata": {
    "execution": {
     "iopub.execute_input": "2021-03-05T19:34:11.489319Z",
     "iopub.status.busy": "2021-03-05T19:34:11.488682Z",
     "iopub.status.idle": "2021-03-05T19:34:12.369485Z",
     "shell.execute_reply": "2021-03-05T19:34:12.368162Z"
    },
    "papermill": {
     "duration": 1.05442,
     "end_time": "2021-03-05T19:34:12.369730",
     "exception": false,
     "start_time": "2021-03-05T19:34:11.315310",
     "status": "completed"
    },
    "tags": []
   },
   "outputs": [
    {
     "name": "stdout",
     "output_type": "stream",
     "text": [
      "+-------+\n",
      "|Initial|\n",
      "+-------+\n",
      "|   Miss|\n",
      "|  Other|\n",
      "| Master|\n",
      "|     Mr|\n",
      "|    Mrs|\n",
      "+-------+\n",
      "\n"
     ]
    }
   ],
   "source": [
    "titanic_df.select(\"Initial\").distinct().show()"
   ]
  },
  {
   "cell_type": "markdown",
   "metadata": {
    "papermill": {
     "duration": 0.185029,
     "end_time": "2021-03-05T19:34:12.742683",
     "exception": false,
     "start_time": "2021-03-05T19:34:12.557654",
     "status": "completed"
    },
    "tags": []
   },
   "source": [
    "### Lets check the average age by Initials"
   ]
  },
  {
   "cell_type": "code",
   "execution_count": 31,
   "metadata": {
    "execution": {
     "iopub.execute_input": "2021-03-05T19:34:13.108453Z",
     "iopub.status.busy": "2021-03-05T19:34:13.107782Z",
     "iopub.status.idle": "2021-03-05T19:34:14.047096Z",
     "shell.execute_reply": "2021-03-05T19:34:14.048500Z"
    },
    "papermill": {
     "duration": 1.108068,
     "end_time": "2021-03-05T19:34:14.048771",
     "exception": false,
     "start_time": "2021-03-05T19:34:12.940703",
     "status": "completed"
    },
    "tags": []
   },
   "outputs": [
    {
     "data": {
      "text/plain": [
       "[Row(Initial='Miss', avg(Age)=21.86),\n",
       " Row(Initial='Other', avg(Age)=45.888888888888886),\n",
       " Row(Initial='Master', avg(Age)=4.574166666666667),\n",
       " Row(Initial='Mr', avg(Age)=32.73960880195599),\n",
       " Row(Initial='Mrs', avg(Age)=35.981818181818184)]"
      ]
     },
     "execution_count": 31,
     "metadata": {},
     "output_type": "execute_result"
    }
   ],
   "source": [
    "titanic_df.groupby('Initial').avg('Age').collect()"
   ]
  },
  {
   "cell_type": "markdown",
   "metadata": {
    "papermill": {
     "duration": 0.163744,
     "end_time": "2021-03-05T19:34:14.402714",
     "exception": false,
     "start_time": "2021-03-05T19:34:14.238970",
     "status": "completed"
    },
    "tags": []
   },
   "source": [
    "### Let's impute missing values in age feature based on average age of Initials"
   ]
  },
  {
   "cell_type": "code",
   "execution_count": 32,
   "metadata": {
    "execution": {
     "iopub.execute_input": "2021-03-05T19:34:14.735257Z",
     "iopub.status.busy": "2021-03-05T19:34:14.733941Z",
     "iopub.status.idle": "2021-03-05T19:34:14.912038Z",
     "shell.execute_reply": "2021-03-05T19:34:14.911117Z"
    },
    "papermill": {
     "duration": 0.347365,
     "end_time": "2021-03-05T19:34:14.912281",
     "exception": false,
     "start_time": "2021-03-05T19:34:14.564916",
     "status": "completed"
    },
    "tags": []
   },
   "outputs": [],
   "source": [
    "titanic_df = titanic_df.withColumn(\"Age\",when((titanic_df[\"Initial\"] == \"Miss\") & (titanic_df[\"Age\"].isNull()), 22).otherwise(titanic_df[\"Age\"]))\n",
    "titanic_df = titanic_df.withColumn(\"Age\",when((titanic_df[\"Initial\"] == \"Other\") & (titanic_df[\"Age\"].isNull()), 46).otherwise(titanic_df[\"Age\"]))\n",
    "titanic_df = titanic_df.withColumn(\"Age\",when((titanic_df[\"Initial\"] == \"Master\") & (titanic_df[\"Age\"].isNull()), 5).otherwise(titanic_df[\"Age\"]))\n",
    "titanic_df = titanic_df.withColumn(\"Age\",when((titanic_df[\"Initial\"] == \"Mr\") & (titanic_df[\"Age\"].isNull()), 33).otherwise(titanic_df[\"Age\"]))\n",
    "titanic_df = titanic_df.withColumn(\"Age\",when((titanic_df[\"Initial\"] == \"Mrs\") & (titanic_df[\"Age\"].isNull()), 36).otherwise(titanic_df[\"Age\"]))"
   ]
  },
  {
   "cell_type": "markdown",
   "metadata": {
    "papermill": {
     "duration": 0.163328,
     "end_time": "2021-03-05T19:34:15.265099",
     "exception": false,
     "start_time": "2021-03-05T19:34:15.101771",
     "status": "completed"
    },
    "tags": []
   },
   "source": [
    "### Check the imputation"
   ]
  },
  {
   "cell_type": "code",
   "execution_count": 33,
   "metadata": {
    "execution": {
     "iopub.execute_input": "2021-03-05T19:34:15.599684Z",
     "iopub.status.busy": "2021-03-05T19:34:15.598662Z",
     "iopub.status.idle": "2021-03-05T19:34:17.711937Z",
     "shell.execute_reply": "2021-03-05T19:34:17.712669Z"
    },
    "papermill": {
     "duration": 2.284864,
     "end_time": "2021-03-05T19:34:17.712925",
     "exception": false,
     "start_time": "2021-03-05T19:34:15.428061",
     "status": "completed"
    },
    "tags": []
   },
   "outputs": [
    {
     "name": "stdout",
     "output_type": "stream",
     "text": [
      "+-------+\n",
      "|Initial|\n",
      "+-------+\n",
      "|     Mr|\n",
      "|     Mr|\n",
      "|     Mr|\n",
      "+-------+\n",
      "\n"
     ]
    }
   ],
   "source": [
    "titanic_df.filter(titanic_df.Age==46).select(\"Initial\").show()"
   ]
  },
  {
   "cell_type": "code",
   "execution_count": 34,
   "metadata": {
    "execution": {
     "iopub.execute_input": "2021-03-05T19:34:18.117937Z",
     "iopub.status.busy": "2021-03-05T19:34:18.117257Z",
     "iopub.status.idle": "2021-03-05T19:34:18.565893Z",
     "shell.execute_reply": "2021-03-05T19:34:18.564781Z"
    },
    "papermill": {
     "duration": 0.625098,
     "end_time": "2021-03-05T19:34:18.566177",
     "exception": false,
     "start_time": "2021-03-05T19:34:17.941079",
     "status": "completed"
    },
    "tags": []
   },
   "outputs": [
    {
     "name": "stdout",
     "output_type": "stream",
     "text": [
      "+----+\n",
      "| Age|\n",
      "+----+\n",
      "|22.0|\n",
      "|38.0|\n",
      "|26.0|\n",
      "|35.0|\n",
      "|35.0|\n",
      "|33.0|\n",
      "|54.0|\n",
      "| 2.0|\n",
      "|27.0|\n",
      "|14.0|\n",
      "| 4.0|\n",
      "|58.0|\n",
      "|20.0|\n",
      "|39.0|\n",
      "|14.0|\n",
      "|55.0|\n",
      "| 2.0|\n",
      "|33.0|\n",
      "|31.0|\n",
      "|36.0|\n",
      "+----+\n",
      "only showing top 20 rows\n",
      "\n"
     ]
    }
   ],
   "source": [
    "titanic_df.select(\"Age\").show()"
   ]
  },
  {
   "cell_type": "markdown",
   "metadata": {
    "papermill": {
     "duration": 0.168944,
     "end_time": "2021-03-05T19:34:18.926594",
     "exception": false,
     "start_time": "2021-03-05T19:34:18.757650",
     "status": "completed"
    },
    "tags": []
   },
   "source": [
    "### Embarked feature has only two missining values. Let's check values within Embarked"
   ]
  },
  {
   "cell_type": "code",
   "execution_count": 35,
   "metadata": {
    "execution": {
     "iopub.execute_input": "2021-03-05T19:34:19.270210Z",
     "iopub.status.busy": "2021-03-05T19:34:19.269526Z",
     "iopub.status.idle": "2021-03-05T19:34:20.124501Z",
     "shell.execute_reply": "2021-03-05T19:34:20.123448Z"
    },
    "papermill": {
     "duration": 1.027824,
     "end_time": "2021-03-05T19:34:20.124679",
     "exception": false,
     "start_time": "2021-03-05T19:34:19.096855",
     "status": "completed"
    },
    "tags": []
   },
   "outputs": [
    {
     "name": "stdout",
     "output_type": "stream",
     "text": [
      "+--------+-----+\n",
      "|Embarked|count|\n",
      "+--------+-----+\n",
      "|       Q|   77|\n",
      "|    null|    2|\n",
      "|       C|  168|\n",
      "|       S|  644|\n",
      "+--------+-----+\n",
      "\n"
     ]
    }
   ],
   "source": [
    "titanic_df.groupBy(\"Embarked\").count().show()"
   ]
  },
  {
   "cell_type": "markdown",
   "metadata": {
    "papermill": {
     "duration": 0.165125,
     "end_time": "2021-03-05T19:34:20.454307",
     "exception": false,
     "start_time": "2021-03-05T19:34:20.289182",
     "status": "completed"
    },
    "tags": []
   },
   "source": [
    "### Majority Passengers boarded from \"S\". We can impute with \"S\""
   ]
  },
  {
   "cell_type": "code",
   "execution_count": 36,
   "metadata": {
    "execution": {
     "iopub.execute_input": "2021-03-05T19:34:20.786329Z",
     "iopub.status.busy": "2021-03-05T19:34:20.785235Z",
     "iopub.status.idle": "2021-03-05T19:34:20.816572Z",
     "shell.execute_reply": "2021-03-05T19:34:20.815589Z"
    },
    "papermill": {
     "duration": 0.199842,
     "end_time": "2021-03-05T19:34:20.816809",
     "exception": false,
     "start_time": "2021-03-05T19:34:20.616967",
     "status": "completed"
    },
    "tags": []
   },
   "outputs": [],
   "source": [
    "titanic_df = titanic_df.na.fill({\"Embarked\" : 'S'})"
   ]
  },
  {
   "cell_type": "markdown",
   "metadata": {
    "papermill": {
     "duration": 0.162441,
     "end_time": "2021-03-05T19:34:21.146918",
     "exception": false,
     "start_time": "2021-03-05T19:34:20.984477",
     "status": "completed"
    },
    "tags": []
   },
   "source": [
    "### We can drop Cabin features as it has lots of null values"
   ]
  },
  {
   "cell_type": "code",
   "execution_count": 37,
   "metadata": {
    "execution": {
     "iopub.execute_input": "2021-03-05T19:34:21.478016Z",
     "iopub.status.busy": "2021-03-05T19:34:21.477325Z",
     "iopub.status.idle": "2021-03-05T19:34:21.489630Z",
     "shell.execute_reply": "2021-03-05T19:34:21.490213Z"
    },
    "papermill": {
     "duration": 0.180055,
     "end_time": "2021-03-05T19:34:21.490395",
     "exception": false,
     "start_time": "2021-03-05T19:34:21.310340",
     "status": "completed"
    },
    "tags": []
   },
   "outputs": [
    {
     "name": "stdout",
     "output_type": "stream",
     "text": [
      "root\n",
      " |-- PassengerId: integer (nullable = true)\n",
      " |-- Survived: integer (nullable = true)\n",
      " |-- Pclass: integer (nullable = true)\n",
      " |-- Name: string (nullable = true)\n",
      " |-- Sex: string (nullable = true)\n",
      " |-- Age: double (nullable = true)\n",
      " |-- SibSp: integer (nullable = true)\n",
      " |-- Parch: integer (nullable = true)\n",
      " |-- Ticket: string (nullable = true)\n",
      " |-- Fare: double (nullable = true)\n",
      " |-- Embarked: string (nullable = false)\n",
      " |-- Initial: string (nullable = true)\n",
      "\n"
     ]
    }
   ],
   "source": [
    "titanic_df = titanic_df.drop(\"Cabin\")\n",
    "titanic_df.printSchema()"
   ]
  },
  {
   "cell_type": "markdown",
   "metadata": {
    "papermill": {
     "duration": 0.164798,
     "end_time": "2021-03-05T19:34:21.819959",
     "exception": false,
     "start_time": "2021-03-05T19:34:21.655161",
     "status": "completed"
    },
    "tags": []
   },
   "source": [
    "## We can create a new feature called \"Family_size\" and \"Alone\" and analyse it. This feature is the summation of Parch(parents/children) and SibSp(siblings/spouses). It gives us a combined data so that we can check if survival rate have anything to do with family size of the passengers"
   ]
  },
  {
   "cell_type": "code",
   "execution_count": 38,
   "metadata": {
    "execution": {
     "iopub.execute_input": "2021-03-05T19:34:22.154372Z",
     "iopub.status.busy": "2021-03-05T19:34:22.153658Z",
     "iopub.status.idle": "2021-03-05T19:34:22.170296Z",
     "shell.execute_reply": "2021-03-05T19:34:22.170819Z"
    },
    "papermill": {
     "duration": 0.187145,
     "end_time": "2021-03-05T19:34:22.171007",
     "exception": false,
     "start_time": "2021-03-05T19:34:21.983862",
     "status": "completed"
    },
    "tags": []
   },
   "outputs": [],
   "source": [
    "titanic_df = titanic_df.withColumn(\"Family_Size\",col('SibSp')+col('Parch'))"
   ]
  },
  {
   "cell_type": "code",
   "execution_count": 39,
   "metadata": {
    "execution": {
     "iopub.execute_input": "2021-03-05T19:34:22.506152Z",
     "iopub.status.busy": "2021-03-05T19:34:22.505481Z",
     "iopub.status.idle": "2021-03-05T19:34:23.335016Z",
     "shell.execute_reply": "2021-03-05T19:34:23.333326Z"
    },
    "papermill": {
     "duration": 0.999286,
     "end_time": "2021-03-05T19:34:23.335411",
     "exception": false,
     "start_time": "2021-03-05T19:34:22.336125",
     "status": "completed"
    },
    "tags": []
   },
   "outputs": [
    {
     "name": "stdout",
     "output_type": "stream",
     "text": [
      "+-----------+-----+\n",
      "|Family_Size|count|\n",
      "+-----------+-----+\n",
      "|          1|  161|\n",
      "|          6|   12|\n",
      "|          3|   29|\n",
      "|          5|   22|\n",
      "|          4|   15|\n",
      "|          7|    6|\n",
      "|         10|    7|\n",
      "|          2|  102|\n",
      "|          0|  537|\n",
      "+-----------+-----+\n",
      "\n"
     ]
    }
   ],
   "source": [
    "titanic_df.groupBy(\"Family_Size\").count().show()"
   ]
  },
  {
   "cell_type": "code",
   "execution_count": 40,
   "metadata": {
    "execution": {
     "iopub.execute_input": "2021-03-05T19:34:23.674005Z",
     "iopub.status.busy": "2021-03-05T19:34:23.673000Z",
     "iopub.status.idle": "2021-03-05T19:34:23.691968Z",
     "shell.execute_reply": "2021-03-05T19:34:23.691038Z"
    },
    "papermill": {
     "duration": 0.188906,
     "end_time": "2021-03-05T19:34:23.692197",
     "exception": false,
     "start_time": "2021-03-05T19:34:23.503291",
     "status": "completed"
    },
    "tags": []
   },
   "outputs": [],
   "source": [
    "titanic_df = titanic_df.withColumn('Alone',lit(0))"
   ]
  },
  {
   "cell_type": "code",
   "execution_count": 41,
   "metadata": {
    "execution": {
     "iopub.execute_input": "2021-03-05T19:34:24.061108Z",
     "iopub.status.busy": "2021-03-05T19:34:24.059980Z",
     "iopub.status.idle": "2021-03-05T19:34:24.083142Z",
     "shell.execute_reply": "2021-03-05T19:34:24.082445Z"
    },
    "papermill": {
     "duration": 0.194171,
     "end_time": "2021-03-05T19:34:24.083286",
     "exception": false,
     "start_time": "2021-03-05T19:34:23.889115",
     "status": "completed"
    },
    "tags": []
   },
   "outputs": [],
   "source": [
    "titanic_df = titanic_df.withColumn(\"Alone\",when(titanic_df[\"Family_Size\"] == 0, 1).otherwise(titanic_df[\"Alone\"]))"
   ]
  },
  {
   "cell_type": "code",
   "execution_count": 42,
   "metadata": {
    "execution": {
     "iopub.execute_input": "2021-03-05T19:34:24.419681Z",
     "iopub.status.busy": "2021-03-05T19:34:24.418958Z",
     "iopub.status.idle": "2021-03-05T19:34:24.425645Z",
     "shell.execute_reply": "2021-03-05T19:34:24.426165Z"
    },
    "papermill": {
     "duration": 0.176185,
     "end_time": "2021-03-05T19:34:24.426337",
     "exception": false,
     "start_time": "2021-03-05T19:34:24.250152",
     "status": "completed"
    },
    "tags": []
   },
   "outputs": [
    {
     "data": {
      "text/plain": [
       "['PassengerId',\n",
       " 'Survived',\n",
       " 'Pclass',\n",
       " 'Name',\n",
       " 'Sex',\n",
       " 'Age',\n",
       " 'SibSp',\n",
       " 'Parch',\n",
       " 'Ticket',\n",
       " 'Fare',\n",
       " 'Embarked',\n",
       " 'Initial',\n",
       " 'Family_Size',\n",
       " 'Alone']"
      ]
     },
     "execution_count": 42,
     "metadata": {},
     "output_type": "execute_result"
    }
   ],
   "source": [
    "titanic_df.columns"
   ]
  },
  {
   "cell_type": "markdown",
   "metadata": {
    "papermill": {
     "duration": 0.166231,
     "end_time": "2021-03-05T19:34:24.757906",
     "exception": false,
     "start_time": "2021-03-05T19:34:24.591675",
     "status": "completed"
    },
    "tags": []
   },
   "source": [
    "# ***Machine Learning***"
   ]
  },
  {
   "cell_type": "markdown",
   "metadata": {
    "papermill": {
     "duration": 0.166937,
     "end_time": "2021-03-05T19:34:25.091751",
     "exception": false,
     "start_time": "2021-03-05T19:34:24.924814",
     "status": "completed"
    },
    "tags": []
   },
   "source": [
    "## Lets convert Sex, Embarked & Initial columns from string to number using StringIndexer"
   ]
  },
  {
   "cell_type": "code",
   "execution_count": 43,
   "metadata": {
    "execution": {
     "iopub.execute_input": "2021-03-05T19:34:25.430818Z",
     "iopub.status.busy": "2021-03-05T19:34:25.430139Z",
     "iopub.status.idle": "2021-03-05T19:34:26.789824Z",
     "shell.execute_reply": "2021-03-05T19:34:26.790310Z"
    },
    "papermill": {
     "duration": 1.529521,
     "end_time": "2021-03-05T19:34:26.790544",
     "exception": false,
     "start_time": "2021-03-05T19:34:25.261023",
     "status": "completed"
    },
    "tags": []
   },
   "outputs": [],
   "source": [
    "indexers = [StringIndexer(inputCol=column, outputCol=column+\"_index\").fit(titanic_df) for column in [\"Sex\",\"Embarked\",\"Initial\"]]\n",
    "pipeline = Pipeline(stages=indexers)\n",
    "titanic_df = pipeline.fit(titanic_df).transform(titanic_df)"
   ]
  },
  {
   "cell_type": "code",
   "execution_count": 44,
   "metadata": {
    "execution": {
     "iopub.execute_input": "2021-03-05T19:34:27.169523Z",
     "iopub.status.busy": "2021-03-05T19:34:27.168764Z",
     "iopub.status.idle": "2021-03-05T19:34:27.891464Z",
     "shell.execute_reply": "2021-03-05T19:34:27.890801Z"
    },
    "papermill": {
     "duration": 0.929854,
     "end_time": "2021-03-05T19:34:27.891631",
     "exception": false,
     "start_time": "2021-03-05T19:34:26.961777",
     "status": "completed"
    },
    "tags": []
   },
   "outputs": [
    {
     "name": "stdout",
     "output_type": "stream",
     "text": [
      "+-----------+--------+------+--------------------+------+----+-----+-----+----------------+-------+--------+-------+-----------+-----+---------+--------------+-------------+\n",
      "|PassengerId|Survived|Pclass|                Name|   Sex| Age|SibSp|Parch|          Ticket|   Fare|Embarked|Initial|Family_Size|Alone|Sex_index|Embarked_index|Initial_index|\n",
      "+-----------+--------+------+--------------------+------+----+-----+-----+----------------+-------+--------+-------+-----------+-----+---------+--------------+-------------+\n",
      "|          1|       0|     3|Braund, Mr. Owen ...|  male|22.0|    1|    0|       A/5 21171|   7.25|       S|     Mr|          1|    0|      0.0|           0.0|          0.0|\n",
      "|          2|       1|     1|Cumings, Mrs. Joh...|female|38.0|    1|    0|        PC 17599|71.2833|       C|    Mrs|          1|    0|      1.0|           1.0|          2.0|\n",
      "|          3|       1|     3|Heikkinen, Miss. ...|female|26.0|    0|    0|STON/O2. 3101282|  7.925|       S|   Miss|          0|    1|      1.0|           0.0|          1.0|\n",
      "|          4|       1|     1|Futrelle, Mrs. Ja...|female|35.0|    1|    0|          113803|   53.1|       S|    Mrs|          1|    0|      1.0|           0.0|          2.0|\n",
      "|          5|       0|     3|Allen, Mr. Willia...|  male|35.0|    0|    0|          373450|   8.05|       S|     Mr|          0|    1|      0.0|           0.0|          0.0|\n",
      "|          6|       0|     3|    Moran, Mr. James|  male|33.0|    0|    0|          330877| 8.4583|       Q|     Mr|          0|    1|      0.0|           2.0|          0.0|\n",
      "|          7|       0|     1|McCarthy, Mr. Tim...|  male|54.0|    0|    0|           17463|51.8625|       S|     Mr|          0|    1|      0.0|           0.0|          0.0|\n",
      "|          8|       0|     3|Palsson, Master. ...|  male| 2.0|    3|    1|          349909| 21.075|       S| Master|          4|    0|      0.0|           0.0|          3.0|\n",
      "|          9|       1|     3|Johnson, Mrs. Osc...|female|27.0|    0|    2|          347742|11.1333|       S|    Mrs|          2|    0|      1.0|           0.0|          2.0|\n",
      "|         10|       1|     2|Nasser, Mrs. Nich...|female|14.0|    1|    0|          237736|30.0708|       C|    Mrs|          1|    0|      1.0|           1.0|          2.0|\n",
      "|         11|       1|     3|Sandstrom, Miss. ...|female| 4.0|    1|    1|         PP 9549|   16.7|       S|   Miss|          2|    0|      1.0|           0.0|          1.0|\n",
      "|         12|       1|     1|Bonnell, Miss. El...|female|58.0|    0|    0|          113783|  26.55|       S|   Miss|          0|    1|      1.0|           0.0|          1.0|\n",
      "|         13|       0|     3|Saundercock, Mr. ...|  male|20.0|    0|    0|       A/5. 2151|   8.05|       S|     Mr|          0|    1|      0.0|           0.0|          0.0|\n",
      "|         14|       0|     3|Andersson, Mr. An...|  male|39.0|    1|    5|          347082| 31.275|       S|     Mr|          6|    0|      0.0|           0.0|          0.0|\n",
      "|         15|       0|     3|Vestrom, Miss. Hu...|female|14.0|    0|    0|          350406| 7.8542|       S|   Miss|          0|    1|      1.0|           0.0|          1.0|\n",
      "|         16|       1|     2|Hewlett, Mrs. (Ma...|female|55.0|    0|    0|          248706|   16.0|       S|    Mrs|          0|    1|      1.0|           0.0|          2.0|\n",
      "|         17|       0|     3|Rice, Master. Eugene|  male| 2.0|    4|    1|          382652| 29.125|       Q| Master|          5|    0|      0.0|           2.0|          3.0|\n",
      "|         18|       1|     2|Williams, Mr. Cha...|  male|33.0|    0|    0|          244373|   13.0|       S|     Mr|          0|    1|      0.0|           0.0|          0.0|\n",
      "|         19|       0|     3|Vander Planke, Mr...|female|31.0|    1|    0|          345763|   18.0|       S|    Mrs|          1|    0|      1.0|           0.0|          2.0|\n",
      "|         20|       1|     3|Masselmani, Mrs. ...|female|36.0|    0|    0|            2649|  7.225|       C|    Mrs|          0|    1|      1.0|           1.0|          2.0|\n",
      "+-----------+--------+------+--------------------+------+----+-----+-----+----------------+-------+--------+-------+-----------+-----+---------+--------------+-------------+\n",
      "only showing top 20 rows\n",
      "\n"
     ]
    }
   ],
   "source": [
    "titanic_df.show()"
   ]
  },
  {
   "cell_type": "code",
   "execution_count": 45,
   "metadata": {
    "execution": {
     "iopub.execute_input": "2021-03-05T19:34:28.244719Z",
     "iopub.status.busy": "2021-03-05T19:34:28.243837Z",
     "iopub.status.idle": "2021-03-05T19:34:28.249517Z",
     "shell.execute_reply": "2021-03-05T19:34:28.248867Z"
    },
    "papermill": {
     "duration": 0.178057,
     "end_time": "2021-03-05T19:34:28.249677",
     "exception": false,
     "start_time": "2021-03-05T19:34:28.071620",
     "status": "completed"
    },
    "tags": []
   },
   "outputs": [
    {
     "name": "stdout",
     "output_type": "stream",
     "text": [
      "root\n",
      " |-- PassengerId: integer (nullable = true)\n",
      " |-- Survived: integer (nullable = true)\n",
      " |-- Pclass: integer (nullable = true)\n",
      " |-- Name: string (nullable = true)\n",
      " |-- Sex: string (nullable = true)\n",
      " |-- Age: double (nullable = true)\n",
      " |-- SibSp: integer (nullable = true)\n",
      " |-- Parch: integer (nullable = true)\n",
      " |-- Ticket: string (nullable = true)\n",
      " |-- Fare: double (nullable = true)\n",
      " |-- Embarked: string (nullable = false)\n",
      " |-- Initial: string (nullable = true)\n",
      " |-- Family_Size: integer (nullable = true)\n",
      " |-- Alone: integer (nullable = false)\n",
      " |-- Sex_index: double (nullable = false)\n",
      " |-- Embarked_index: double (nullable = false)\n",
      " |-- Initial_index: double (nullable = false)\n",
      "\n"
     ]
    }
   ],
   "source": [
    "titanic_df.printSchema()"
   ]
  },
  {
   "cell_type": "markdown",
   "metadata": {
    "papermill": {
     "duration": 0.167645,
     "end_time": "2021-03-05T19:34:28.584736",
     "exception": false,
     "start_time": "2021-03-05T19:34:28.417091",
     "status": "completed"
    },
    "tags": []
   },
   "source": [
    "## Drop columns which are not required"
   ]
  },
  {
   "cell_type": "code",
   "execution_count": 46,
   "metadata": {
    "execution": {
     "iopub.execute_input": "2021-03-05T19:34:28.929547Z",
     "iopub.status.busy": "2021-03-05T19:34:28.928371Z",
     "iopub.status.idle": "2021-03-05T19:34:29.445394Z",
     "shell.execute_reply": "2021-03-05T19:34:29.444402Z"
    },
    "papermill": {
     "duration": 0.691994,
     "end_time": "2021-03-05T19:34:29.445604",
     "exception": false,
     "start_time": "2021-03-05T19:34:28.753610",
     "status": "completed"
    },
    "tags": []
   },
   "outputs": [
    {
     "name": "stdout",
     "output_type": "stream",
     "text": [
      "+--------+------+----+-----+-----+-------+-----------+-----+---------+--------------+-------------+\n",
      "|Survived|Pclass| Age|SibSp|Parch|   Fare|Family_Size|Alone|Sex_index|Embarked_index|Initial_index|\n",
      "+--------+------+----+-----+-----+-------+-----------+-----+---------+--------------+-------------+\n",
      "|       0|     3|22.0|    1|    0|   7.25|          1|    0|      0.0|           0.0|          0.0|\n",
      "|       1|     1|38.0|    1|    0|71.2833|          1|    0|      1.0|           1.0|          2.0|\n",
      "|       1|     3|26.0|    0|    0|  7.925|          0|    1|      1.0|           0.0|          1.0|\n",
      "|       1|     1|35.0|    1|    0|   53.1|          1|    0|      1.0|           0.0|          2.0|\n",
      "|       0|     3|35.0|    0|    0|   8.05|          0|    1|      0.0|           0.0|          0.0|\n",
      "|       0|     3|33.0|    0|    0| 8.4583|          0|    1|      0.0|           2.0|          0.0|\n",
      "|       0|     1|54.0|    0|    0|51.8625|          0|    1|      0.0|           0.0|          0.0|\n",
      "|       0|     3| 2.0|    3|    1| 21.075|          4|    0|      0.0|           0.0|          3.0|\n",
      "|       1|     3|27.0|    0|    2|11.1333|          2|    0|      1.0|           0.0|          2.0|\n",
      "|       1|     2|14.0|    1|    0|30.0708|          1|    0|      1.0|           1.0|          2.0|\n",
      "|       1|     3| 4.0|    1|    1|   16.7|          2|    0|      1.0|           0.0|          1.0|\n",
      "|       1|     1|58.0|    0|    0|  26.55|          0|    1|      1.0|           0.0|          1.0|\n",
      "|       0|     3|20.0|    0|    0|   8.05|          0|    1|      0.0|           0.0|          0.0|\n",
      "|       0|     3|39.0|    1|    5| 31.275|          6|    0|      0.0|           0.0|          0.0|\n",
      "|       0|     3|14.0|    0|    0| 7.8542|          0|    1|      1.0|           0.0|          1.0|\n",
      "|       1|     2|55.0|    0|    0|   16.0|          0|    1|      1.0|           0.0|          2.0|\n",
      "|       0|     3| 2.0|    4|    1| 29.125|          5|    0|      0.0|           2.0|          3.0|\n",
      "|       1|     2|33.0|    0|    0|   13.0|          0|    1|      0.0|           0.0|          0.0|\n",
      "|       0|     3|31.0|    1|    0|   18.0|          1|    0|      1.0|           0.0|          2.0|\n",
      "|       1|     3|36.0|    0|    0|  7.225|          0|    1|      1.0|           1.0|          2.0|\n",
      "+--------+------+----+-----+-----+-------+-----------+-----+---------+--------------+-------------+\n",
      "only showing top 20 rows\n",
      "\n"
     ]
    }
   ],
   "source": [
    "titanic_df = titanic_df.drop(\"PassengerId\",\"Name\",\"Ticket\",\"Cabin\",\"Embarked\",\"Sex\",\"Initial\")\n",
    "titanic_df.show()"
   ]
  },
  {
   "cell_type": "markdown",
   "metadata": {
    "papermill": {
     "duration": 0.261728,
     "end_time": "2021-03-05T19:34:29.882185",
     "exception": false,
     "start_time": "2021-03-05T19:34:29.620457",
     "status": "completed"
    },
    "tags": []
   },
   "source": [
    "### Let's put all features into vector"
   ]
  },
  {
   "cell_type": "code",
   "execution_count": 47,
   "metadata": {
    "execution": {
     "iopub.execute_input": "2021-03-05T19:34:30.383473Z",
     "iopub.status.busy": "2021-03-05T19:34:30.382626Z",
     "iopub.status.idle": "2021-03-05T19:34:30.464995Z",
     "shell.execute_reply": "2021-03-05T19:34:30.463990Z"
    },
    "papermill": {
     "duration": 0.322307,
     "end_time": "2021-03-05T19:34:30.465217",
     "exception": false,
     "start_time": "2021-03-05T19:34:30.142910",
     "status": "completed"
    },
    "tags": []
   },
   "outputs": [],
   "source": [
    "feature = VectorAssembler(inputCols=titanic_df.columns[1:],outputCol=\"features\")\n",
    "feature_vector= feature.transform(titanic_df)"
   ]
  },
  {
   "cell_type": "code",
   "execution_count": 48,
   "metadata": {
    "execution": {
     "iopub.execute_input": "2021-03-05T19:34:30.813805Z",
     "iopub.status.busy": "2021-03-05T19:34:30.812969Z",
     "iopub.status.idle": "2021-03-05T19:34:31.487766Z",
     "shell.execute_reply": "2021-03-05T19:34:31.486343Z"
    },
    "papermill": {
     "duration": 0.847389,
     "end_time": "2021-03-05T19:34:31.488003",
     "exception": false,
     "start_time": "2021-03-05T19:34:30.640614",
     "status": "completed"
    },
    "tags": []
   },
   "outputs": [
    {
     "name": "stdout",
     "output_type": "stream",
     "text": [
      "+--------+------+----+-----+-----+-------+-----------+-----+---------+--------------+-------------+--------------------+\n",
      "|Survived|Pclass| Age|SibSp|Parch|   Fare|Family_Size|Alone|Sex_index|Embarked_index|Initial_index|            features|\n",
      "+--------+------+----+-----+-----+-------+-----------+-----+---------+--------------+-------------+--------------------+\n",
      "|       0|     3|22.0|    1|    0|   7.25|          1|    0|      0.0|           0.0|          0.0|(10,[0,1,2,4,5],[...|\n",
      "|       1|     1|38.0|    1|    0|71.2833|          1|    0|      1.0|           1.0|          2.0|[1.0,38.0,1.0,0.0...|\n",
      "|       1|     3|26.0|    0|    0|  7.925|          0|    1|      1.0|           0.0|          1.0|[3.0,26.0,0.0,0.0...|\n",
      "|       1|     1|35.0|    1|    0|   53.1|          1|    0|      1.0|           0.0|          2.0|[1.0,35.0,1.0,0.0...|\n",
      "|       0|     3|35.0|    0|    0|   8.05|          0|    1|      0.0|           0.0|          0.0|(10,[0,1,4,6],[3....|\n",
      "|       0|     3|33.0|    0|    0| 8.4583|          0|    1|      0.0|           2.0|          0.0|(10,[0,1,4,6,8],[...|\n",
      "|       0|     1|54.0|    0|    0|51.8625|          0|    1|      0.0|           0.0|          0.0|(10,[0,1,4,6],[1....|\n",
      "|       0|     3| 2.0|    3|    1| 21.075|          4|    0|      0.0|           0.0|          3.0|[3.0,2.0,3.0,1.0,...|\n",
      "|       1|     3|27.0|    0|    2|11.1333|          2|    0|      1.0|           0.0|          2.0|[3.0,27.0,0.0,2.0...|\n",
      "|       1|     2|14.0|    1|    0|30.0708|          1|    0|      1.0|           1.0|          2.0|[2.0,14.0,1.0,0.0...|\n",
      "|       1|     3| 4.0|    1|    1|   16.7|          2|    0|      1.0|           0.0|          1.0|[3.0,4.0,1.0,1.0,...|\n",
      "|       1|     1|58.0|    0|    0|  26.55|          0|    1|      1.0|           0.0|          1.0|[1.0,58.0,0.0,0.0...|\n",
      "|       0|     3|20.0|    0|    0|   8.05|          0|    1|      0.0|           0.0|          0.0|(10,[0,1,4,6],[3....|\n",
      "|       0|     3|39.0|    1|    5| 31.275|          6|    0|      0.0|           0.0|          0.0|[3.0,39.0,1.0,5.0...|\n",
      "|       0|     3|14.0|    0|    0| 7.8542|          0|    1|      1.0|           0.0|          1.0|[3.0,14.0,0.0,0.0...|\n",
      "|       1|     2|55.0|    0|    0|   16.0|          0|    1|      1.0|           0.0|          2.0|[2.0,55.0,0.0,0.0...|\n",
      "|       0|     3| 2.0|    4|    1| 29.125|          5|    0|      0.0|           2.0|          3.0|[3.0,2.0,4.0,1.0,...|\n",
      "|       1|     2|33.0|    0|    0|   13.0|          0|    1|      0.0|           0.0|          0.0|(10,[0,1,4,6],[2....|\n",
      "|       0|     3|31.0|    1|    0|   18.0|          1|    0|      1.0|           0.0|          2.0|[3.0,31.0,1.0,0.0...|\n",
      "|       1|     3|36.0|    0|    0|  7.225|          0|    1|      1.0|           1.0|          2.0|[3.0,36.0,0.0,0.0...|\n",
      "+--------+------+----+-----+-----+-------+-----------+-----+---------+--------------+-------------+--------------------+\n",
      "only showing top 20 rows\n",
      "\n"
     ]
    }
   ],
   "source": [
    "feature_vector.show()"
   ]
  },
  {
   "cell_type": "markdown",
   "metadata": {
    "papermill": {
     "duration": 0.170095,
     "end_time": "2021-03-05T19:34:31.834772",
     "exception": false,
     "start_time": "2021-03-05T19:34:31.664677",
     "status": "completed"
    },
    "tags": []
   },
   "source": [
    "### Now that the data is all set, let's split it into training and test. I'll be using 80% of it."
   ]
  },
  {
   "cell_type": "code",
   "execution_count": 49,
   "metadata": {
    "execution": {
     "iopub.execute_input": "2021-03-05T19:34:32.184470Z",
     "iopub.status.busy": "2021-03-05T19:34:32.182583Z",
     "iopub.status.idle": "2021-03-05T19:34:32.209064Z",
     "shell.execute_reply": "2021-03-05T19:34:32.208460Z"
    },
    "papermill": {
     "duration": 0.205696,
     "end_time": "2021-03-05T19:34:32.209219",
     "exception": false,
     "start_time": "2021-03-05T19:34:32.003523",
     "status": "completed"
    },
    "tags": []
   },
   "outputs": [],
   "source": [
    "(trainingData, testData) = feature_vector.randomSplit([0.8, 0.2],seed = 11)"
   ]
  },
  {
   "cell_type": "markdown",
   "metadata": {
    "papermill": {
     "duration": 0.169091,
     "end_time": "2021-03-05T19:34:32.549476",
     "exception": false,
     "start_time": "2021-03-05T19:34:32.380385",
     "status": "completed"
    },
    "tags": []
   },
   "source": [
    "# Modelling"
   ]
  },
  {
   "cell_type": "markdown",
   "metadata": {
    "papermill": {
     "duration": 0.170512,
     "end_time": "2021-03-05T19:34:32.893577",
     "exception": false,
     "start_time": "2021-03-05T19:34:32.723065",
     "status": "completed"
    },
    "tags": []
   },
   "source": [
    "## Here is the list of few Classification Algorithms from Spark ML\n",
    "\n",
    "### -LogisticRegression\n",
    "### -DecisionTreeClassifier\n",
    "### -RandomForestClassifier\n",
    "### -Gradient-boosted tree classifier\n",
    "### -NaiveBayes\n",
    "### -Support Vector Machine"
   ]
  },
  {
   "cell_type": "markdown",
   "metadata": {
    "papermill": {
     "duration": 0.171652,
     "end_time": "2021-03-05T19:34:33.234850",
     "exception": false,
     "start_time": "2021-03-05T19:34:33.063198",
     "status": "completed"
    },
    "tags": []
   },
   "source": [
    "# LogisticRegression"
   ]
  },
  {
   "cell_type": "code",
   "execution_count": 50,
   "metadata": {
    "execution": {
     "iopub.execute_input": "2021-03-05T19:34:33.583671Z",
     "iopub.status.busy": "2021-03-05T19:34:33.582661Z",
     "iopub.status.idle": "2021-03-05T19:34:39.365669Z",
     "shell.execute_reply": "2021-03-05T19:34:39.367182Z"
    },
    "papermill": {
     "duration": 5.962195,
     "end_time": "2021-03-05T19:34:39.367592",
     "exception": false,
     "start_time": "2021-03-05T19:34:33.405397",
     "status": "completed"
    },
    "tags": []
   },
   "outputs": [
    {
     "name": "stdout",
     "output_type": "stream",
     "text": [
      "+----------+--------+--------------------+\n",
      "|prediction|Survived|            features|\n",
      "+----------+--------+--------------------+\n",
      "|       1.0|       0|(10,[0,1,4,6,8],[...|\n",
      "|       1.0|       0|(10,[0,1,4,6,8],[...|\n",
      "|       0.0|       0|(10,[0,1,4,6],[1....|\n",
      "|       0.0|       0|(10,[0,1,2,4,5],[...|\n",
      "|       0.0|       0|(10,[0,1,4,6,8],[...|\n",
      "|       0.0|       0|(10,[0,1,2,4,5],[...|\n",
      "|       0.0|       0|(10,[0,1,6],[1.0,...|\n",
      "|       0.0|       0|(10,[0,1,4,6],[1....|\n",
      "|       0.0|       0|(10,[0,1,4,6],[1....|\n",
      "|       0.0|       0|(10,[0,1,4,6],[1....|\n",
      "|       1.0|       0|(10,[0,1,4,6],[1....|\n",
      "|       0.0|       0|(10,[0,1,2,4,5],[...|\n",
      "|       1.0|       0|(10,[0,1,3,4,5],[...|\n",
      "|       0.0|       0|(10,[0,1,2,4,5],[...|\n",
      "|       0.0|       0|(10,[0,1,4,6],[1....|\n",
      "|       0.0|       0|[1.0,58.0,0.0,2.0...|\n",
      "|       0.0|       0|(10,[0,1,4,6],[1....|\n",
      "|       0.0|       0|(10,[0,1,4,6],[1....|\n",
      "|       0.0|       0|(10,[0,1,4,6,8],[...|\n",
      "|       0.0|       0|[2.0,19.0,1.0,1.0...|\n",
      "+----------+--------+--------------------+\n",
      "only showing top 20 rows\n",
      "\n"
     ]
    }
   ],
   "source": [
    "from pyspark.ml.classification import LogisticRegression\n",
    "lr = LogisticRegression(labelCol=\"Survived\", featuresCol=\"features\")\n",
    "#Training algo\n",
    "lrModel = lr.fit(trainingData)\n",
    "lr_prediction = lrModel.transform(testData)\n",
    "lr_prediction.select(\"prediction\", \"Survived\", \"features\").show()\n",
    "evaluator = MulticlassClassificationEvaluator(labelCol=\"Survived\", predictionCol=\"prediction\", metricName=\"accuracy\")"
   ]
  },
  {
   "cell_type": "code",
   "execution_count": 51,
   "metadata": {
    "execution": {
     "iopub.execute_input": "2021-03-05T19:34:39.713519Z",
     "iopub.status.busy": "2021-03-05T19:34:39.712134Z",
     "iopub.status.idle": "2021-03-05T19:34:40.475276Z",
     "shell.execute_reply": "2021-03-05T19:34:40.473464Z"
    },
    "papermill": {
     "duration": 0.936818,
     "end_time": "2021-03-05T19:34:40.475564",
     "exception": false,
     "start_time": "2021-03-05T19:34:39.538746",
     "status": "completed"
    },
    "tags": []
   },
   "outputs": [
    {
     "name": "stdout",
     "output_type": "stream",
     "text": [
      "Accuracy of LogisticRegression is = 0.771277\n",
      "Test Error of LogisticRegression = 0.228723 \n"
     ]
    }
   ],
   "source": [
    "lr_accuracy = evaluator.evaluate(lr_prediction)\n",
    "print(\"Accuracy of LogisticRegression is = %g\"% (lr_accuracy))\n",
    "print(\"Test Error of LogisticRegression = %g \" % (1.0 - lr_accuracy))"
   ]
  },
  {
   "cell_type": "markdown",
   "metadata": {
    "papermill": {
     "duration": 0.167597,
     "end_time": "2021-03-05T19:34:40.840941",
     "exception": false,
     "start_time": "2021-03-05T19:34:40.673344",
     "status": "completed"
    },
    "tags": []
   },
   "source": [
    "# DecisionTreeClassifier"
   ]
  },
  {
   "cell_type": "code",
   "execution_count": 52,
   "metadata": {
    "execution": {
     "iopub.execute_input": "2021-03-05T19:34:41.182645Z",
     "iopub.status.busy": "2021-03-05T19:34:41.181979Z",
     "iopub.status.idle": "2021-03-05T19:34:44.770460Z",
     "shell.execute_reply": "2021-03-05T19:34:44.769904Z"
    },
    "papermill": {
     "duration": 3.761422,
     "end_time": "2021-03-05T19:34:44.770625",
     "exception": false,
     "start_time": "2021-03-05T19:34:41.009203",
     "status": "completed"
    },
    "tags": []
   },
   "outputs": [
    {
     "name": "stdout",
     "output_type": "stream",
     "text": [
      "+----------+--------+--------------------+\n",
      "|prediction|Survived|            features|\n",
      "+----------+--------+--------------------+\n",
      "|       0.0|       0|(10,[0,1,4,6,8],[...|\n",
      "|       0.0|       0|(10,[0,1,4,6,8],[...|\n",
      "|       1.0|       0|(10,[0,1,4,6],[1....|\n",
      "|       0.0|       0|(10,[0,1,2,4,5],[...|\n",
      "|       1.0|       0|(10,[0,1,4,6,8],[...|\n",
      "|       0.0|       0|(10,[0,1,2,4,5],[...|\n",
      "|       0.0|       0|(10,[0,1,6],[1.0,...|\n",
      "|       0.0|       0|(10,[0,1,4,6],[1....|\n",
      "|       0.0|       0|(10,[0,1,4,6],[1....|\n",
      "|       0.0|       0|(10,[0,1,4,6],[1....|\n",
      "|       0.0|       0|(10,[0,1,4,6],[1....|\n",
      "|       0.0|       0|(10,[0,1,2,4,5],[...|\n",
      "|       0.0|       0|(10,[0,1,3,4,5],[...|\n",
      "|       0.0|       0|(10,[0,1,2,4,5],[...|\n",
      "|       0.0|       0|(10,[0,1,4,6],[1....|\n",
      "|       0.0|       0|[1.0,58.0,0.0,2.0...|\n",
      "|       0.0|       0|(10,[0,1,4,6],[1....|\n",
      "|       0.0|       0|(10,[0,1,4,6],[1....|\n",
      "|       0.0|       0|(10,[0,1,4,6,8],[...|\n",
      "|       0.0|       0|[2.0,19.0,1.0,1.0...|\n",
      "+----------+--------+--------------------+\n",
      "only showing top 20 rows\n",
      "\n"
     ]
    }
   ],
   "source": [
    "from pyspark.ml.classification import DecisionTreeClassifier\n",
    "dt = DecisionTreeClassifier(labelCol=\"Survived\", featuresCol=\"features\")\n",
    "dt_model = dt.fit(trainingData)\n",
    "dt_prediction = dt_model.transform(testData)\n",
    "dt_prediction.select(\"prediction\", \"Survived\", \"features\").show()"
   ]
  },
  {
   "cell_type": "code",
   "execution_count": 53,
   "metadata": {
    "execution": {
     "iopub.execute_input": "2021-03-05T19:34:45.122935Z",
     "iopub.status.busy": "2021-03-05T19:34:45.120881Z",
     "iopub.status.idle": "2021-03-05T19:34:45.617519Z",
     "shell.execute_reply": "2021-03-05T19:34:45.616572Z"
    },
    "papermill": {
     "duration": 0.67422,
     "end_time": "2021-03-05T19:34:45.617748",
     "exception": false,
     "start_time": "2021-03-05T19:34:44.943528",
     "status": "completed"
    },
    "tags": []
   },
   "outputs": [
    {
     "name": "stdout",
     "output_type": "stream",
     "text": [
      "Accuracy of DecisionTreeClassifier is = 0.819149\n",
      "Test Error of DecisionTreeClassifier = 0.180851 \n"
     ]
    }
   ],
   "source": [
    "dt_accuracy = evaluator.evaluate(dt_prediction)\n",
    "print(\"Accuracy of DecisionTreeClassifier is = %g\"% (dt_accuracy))\n",
    "print(\"Test Error of DecisionTreeClassifier = %g \" % (1.0 - dt_accuracy))"
   ]
  },
  {
   "cell_type": "markdown",
   "metadata": {
    "papermill": {
     "duration": 0.177255,
     "end_time": "2021-03-05T19:34:46.036007",
     "exception": false,
     "start_time": "2021-03-05T19:34:45.858752",
     "status": "completed"
    },
    "tags": []
   },
   "source": [
    "# RandomForestClassifier"
   ]
  },
  {
   "cell_type": "code",
   "execution_count": 54,
   "metadata": {
    "execution": {
     "iopub.execute_input": "2021-03-05T19:34:46.384783Z",
     "iopub.status.busy": "2021-03-05T19:34:46.384065Z",
     "iopub.status.idle": "2021-03-05T19:34:49.093918Z",
     "shell.execute_reply": "2021-03-05T19:34:49.092733Z"
    },
    "papermill": {
     "duration": 2.887494,
     "end_time": "2021-03-05T19:34:49.094176",
     "exception": false,
     "start_time": "2021-03-05T19:34:46.206682",
     "status": "completed"
    },
    "tags": []
   },
   "outputs": [
    {
     "name": "stdout",
     "output_type": "stream",
     "text": [
      "+----------+--------+--------------------+\n",
      "|prediction|Survived|            features|\n",
      "+----------+--------+--------------------+\n",
      "|       0.0|       0|(10,[0,1,4,6,8],[...|\n",
      "|       0.0|       0|(10,[0,1,4,6,8],[...|\n",
      "|       1.0|       0|(10,[0,1,4,6],[1....|\n",
      "|       0.0|       0|(10,[0,1,2,4,5],[...|\n",
      "|       1.0|       0|(10,[0,1,4,6,8],[...|\n",
      "|       0.0|       0|(10,[0,1,2,4,5],[...|\n",
      "|       0.0|       0|(10,[0,1,6],[1.0,...|\n",
      "|       0.0|       0|(10,[0,1,4,6],[1....|\n",
      "|       0.0|       0|(10,[0,1,4,6],[1....|\n",
      "|       0.0|       0|(10,[0,1,4,6],[1....|\n",
      "|       0.0|       0|(10,[0,1,4,6],[1....|\n",
      "|       0.0|       0|(10,[0,1,2,4,5],[...|\n",
      "|       0.0|       0|(10,[0,1,3,4,5],[...|\n",
      "|       0.0|       0|(10,[0,1,2,4,5],[...|\n",
      "|       0.0|       0|(10,[0,1,4,6],[1....|\n",
      "|       0.0|       0|[1.0,58.0,0.0,2.0...|\n",
      "|       0.0|       0|(10,[0,1,4,6],[1....|\n",
      "|       0.0|       0|(10,[0,1,4,6],[1....|\n",
      "|       0.0|       0|(10,[0,1,4,6,8],[...|\n",
      "|       0.0|       0|[2.0,19.0,1.0,1.0...|\n",
      "+----------+--------+--------------------+\n",
      "only showing top 20 rows\n",
      "\n"
     ]
    }
   ],
   "source": [
    "from pyspark.ml.classification import RandomForestClassifier\n",
    "rf = DecisionTreeClassifier(labelCol=\"Survived\", featuresCol=\"features\")\n",
    "rf_model = rf.fit(trainingData)\n",
    "rf_prediction = rf_model.transform(testData)\n",
    "rf_prediction.select(\"prediction\", \"Survived\", \"features\").show()"
   ]
  },
  {
   "cell_type": "code",
   "execution_count": 55,
   "metadata": {
    "execution": {
     "iopub.execute_input": "2021-03-05T19:34:49.523986Z",
     "iopub.status.busy": "2021-03-05T19:34:49.522759Z",
     "iopub.status.idle": "2021-03-05T19:34:49.972937Z",
     "shell.execute_reply": "2021-03-05T19:34:49.973410Z"
    },
    "papermill": {
     "duration": 0.627893,
     "end_time": "2021-03-05T19:34:49.973640",
     "exception": false,
     "start_time": "2021-03-05T19:34:49.345747",
     "status": "completed"
    },
    "tags": []
   },
   "outputs": [
    {
     "name": "stdout",
     "output_type": "stream",
     "text": [
      "Accuracy of RandomForestClassifier is = 0.819149\n",
      "Test Error of RandomForestClassifier  = 0.180851 \n"
     ]
    }
   ],
   "source": [
    "rf_accuracy = evaluator.evaluate(rf_prediction)\n",
    "print(\"Accuracy of RandomForestClassifier is = %g\"% (rf_accuracy))\n",
    "print(\"Test Error of RandomForestClassifier  = %g \" % (1.0 - rf_accuracy))"
   ]
  },
  {
   "cell_type": "markdown",
   "metadata": {
    "papermill": {
     "duration": 0.170205,
     "end_time": "2021-03-05T19:34:50.316391",
     "exception": false,
     "start_time": "2021-03-05T19:34:50.146186",
     "status": "completed"
    },
    "tags": []
   },
   "source": [
    "# Gradient-boosted tree classifier"
   ]
  },
  {
   "cell_type": "code",
   "execution_count": 56,
   "metadata": {
    "execution": {
     "iopub.execute_input": "2021-03-05T19:34:50.663859Z",
     "iopub.status.busy": "2021-03-05T19:34:50.662834Z",
     "iopub.status.idle": "2021-03-05T19:34:56.648256Z",
     "shell.execute_reply": "2021-03-05T19:34:56.649096Z"
    },
    "papermill": {
     "duration": 6.162498,
     "end_time": "2021-03-05T19:34:56.649351",
     "exception": false,
     "start_time": "2021-03-05T19:34:50.486853",
     "status": "completed"
    },
    "tags": []
   },
   "outputs": [
    {
     "name": "stdout",
     "output_type": "stream",
     "text": [
      "+----------+--------+--------------------+\n",
      "|prediction|Survived|            features|\n",
      "+----------+--------+--------------------+\n",
      "|       1.0|       0|(10,[0,1,4,6,8],[...|\n",
      "|       0.0|       0|(10,[0,1,4,6,8],[...|\n",
      "|       1.0|       0|(10,[0,1,4,6],[1....|\n",
      "|       0.0|       0|(10,[0,1,2,4,5],[...|\n",
      "|       1.0|       0|(10,[0,1,4,6,8],[...|\n",
      "|       0.0|       0|(10,[0,1,2,4,5],[...|\n",
      "|       0.0|       0|(10,[0,1,6],[1.0,...|\n",
      "|       0.0|       0|(10,[0,1,4,6],[1....|\n",
      "|       0.0|       0|(10,[0,1,4,6],[1....|\n",
      "|       0.0|       0|(10,[0,1,4,6],[1....|\n",
      "|       0.0|       0|(10,[0,1,4,6],[1....|\n",
      "|       0.0|       0|(10,[0,1,2,4,5],[...|\n",
      "|       0.0|       0|(10,[0,1,3,4,5],[...|\n",
      "|       0.0|       0|(10,[0,1,2,4,5],[...|\n",
      "|       0.0|       0|(10,[0,1,4,6],[1....|\n",
      "|       0.0|       0|[1.0,58.0,0.0,2.0...|\n",
      "|       0.0|       0|(10,[0,1,4,6],[1....|\n",
      "|       0.0|       0|(10,[0,1,4,6],[1....|\n",
      "|       0.0|       0|(10,[0,1,4,6,8],[...|\n",
      "|       0.0|       0|[2.0,19.0,1.0,1.0...|\n",
      "+----------+--------+--------------------+\n",
      "only showing top 20 rows\n",
      "\n"
     ]
    }
   ],
   "source": [
    "from pyspark.ml.classification import GBTClassifier\n",
    "gbt = GBTClassifier(labelCol=\"Survived\", featuresCol=\"features\",maxIter=10)\n",
    "gbt_model = gbt.fit(trainingData)\n",
    "gbt_prediction = gbt_model.transform(testData)\n",
    "gbt_prediction.select(\"prediction\", \"Survived\", \"features\").show()"
   ]
  },
  {
   "cell_type": "code",
   "execution_count": 57,
   "metadata": {
    "execution": {
     "iopub.execute_input": "2021-03-05T19:34:57.055470Z",
     "iopub.status.busy": "2021-03-05T19:34:57.054760Z",
     "iopub.status.idle": "2021-03-05T19:34:57.522754Z",
     "shell.execute_reply": "2021-03-05T19:34:57.522130Z"
    },
    "papermill": {
     "duration": 0.645172,
     "end_time": "2021-03-05T19:34:57.522906",
     "exception": false,
     "start_time": "2021-03-05T19:34:56.877734",
     "status": "completed"
    },
    "tags": []
   },
   "outputs": [
    {
     "name": "stdout",
     "output_type": "stream",
     "text": [
      "Accuracy of Gradient-boosted tree classifie is = 0.803191\n",
      "Test Error of Gradient-boosted tree classifie 0.196809\n"
     ]
    }
   ],
   "source": [
    "gbt_accuracy = evaluator.evaluate(gbt_prediction)\n",
    "print(\"Accuracy of Gradient-boosted tree classifie is = %g\"% (gbt_accuracy))\n",
    "print(\"Test Error of Gradient-boosted tree classifie %g\"% (1.0 - gbt_accuracy))"
   ]
  },
  {
   "cell_type": "markdown",
   "metadata": {
    "papermill": {
     "duration": 0.172091,
     "end_time": "2021-03-05T19:34:57.867629",
     "exception": false,
     "start_time": "2021-03-05T19:34:57.695538",
     "status": "completed"
    },
    "tags": []
   },
   "source": [
    "# NaiveBayes"
   ]
  },
  {
   "cell_type": "code",
   "execution_count": 58,
   "metadata": {
    "execution": {
     "iopub.execute_input": "2021-03-05T19:34:58.218849Z",
     "iopub.status.busy": "2021-03-05T19:34:58.217745Z",
     "iopub.status.idle": "2021-03-05T19:35:00.726484Z",
     "shell.execute_reply": "2021-03-05T19:35:00.727329Z"
    },
    "papermill": {
     "duration": 2.68765,
     "end_time": "2021-03-05T19:35:00.727631",
     "exception": false,
     "start_time": "2021-03-05T19:34:58.039981",
     "status": "completed"
    },
    "tags": []
   },
   "outputs": [
    {
     "name": "stdout",
     "output_type": "stream",
     "text": [
      "+----------+--------+--------------------+\n",
      "|prediction|Survived|            features|\n",
      "+----------+--------+--------------------+\n",
      "|       1.0|       0|(10,[0,1,4,6,8],[...|\n",
      "|       1.0|       0|(10,[0,1,4,6,8],[...|\n",
      "|       0.0|       0|(10,[0,1,4,6],[1....|\n",
      "|       1.0|       0|(10,[0,1,2,4,5],[...|\n",
      "|       0.0|       0|(10,[0,1,4,6,8],[...|\n",
      "|       1.0|       0|(10,[0,1,2,4,5],[...|\n",
      "|       0.0|       0|(10,[0,1,6],[1.0,...|\n",
      "|       0.0|       0|(10,[0,1,4,6],[1....|\n",
      "|       0.0|       0|(10,[0,1,4,6],[1....|\n",
      "|       1.0|       0|(10,[0,1,4,6],[1....|\n",
      "|       1.0|       0|(10,[0,1,4,6],[1....|\n",
      "|       1.0|       0|(10,[0,1,2,4,5],[...|\n",
      "|       1.0|       0|(10,[0,1,3,4,5],[...|\n",
      "|       1.0|       0|(10,[0,1,2,4,5],[...|\n",
      "|       0.0|       0|(10,[0,1,4,6],[1....|\n",
      "|       1.0|       0|[1.0,58.0,0.0,2.0...|\n",
      "|       0.0|       0|(10,[0,1,4,6],[1....|\n",
      "|       0.0|       0|(10,[0,1,4,6],[1....|\n",
      "|       0.0|       0|(10,[0,1,4,6,8],[...|\n",
      "|       1.0|       0|[2.0,19.0,1.0,1.0...|\n",
      "+----------+--------+--------------------+\n",
      "only showing top 20 rows\n",
      "\n"
     ]
    }
   ],
   "source": [
    "from pyspark.ml.classification import NaiveBayes\n",
    "nb = NaiveBayes(labelCol=\"Survived\", featuresCol=\"features\")\n",
    "nb_model = nb.fit(trainingData)\n",
    "nb_prediction = nb_model.transform(testData)\n",
    "nb_prediction.select(\"prediction\", \"Survived\", \"features\").show()"
   ]
  },
  {
   "cell_type": "code",
   "execution_count": 59,
   "metadata": {
    "execution": {
     "iopub.execute_input": "2021-03-05T19:35:01.079750Z",
     "iopub.status.busy": "2021-03-05T19:35:01.078837Z",
     "iopub.status.idle": "2021-03-05T19:35:01.541052Z",
     "shell.execute_reply": "2021-03-05T19:35:01.540000Z"
    },
    "papermill": {
     "duration": 0.640621,
     "end_time": "2021-03-05T19:35:01.541288",
     "exception": false,
     "start_time": "2021-03-05T19:35:00.900667",
     "status": "completed"
    },
    "tags": []
   },
   "outputs": [
    {
     "name": "stdout",
     "output_type": "stream",
     "text": [
      "Accuracy of NaiveBayes is  = 0.739362\n",
      "Test Error of NaiveBayes  = 0.260638 \n"
     ]
    }
   ],
   "source": [
    "nb_accuracy = evaluator.evaluate(nb_prediction)\n",
    "print(\"Accuracy of NaiveBayes is  = %g\"% (nb_accuracy))\n",
    "print(\"Test Error of NaiveBayes  = %g \" % (1.0 - nb_accuracy))"
   ]
  },
  {
   "cell_type": "markdown",
   "metadata": {
    "papermill": {
     "duration": 0.176304,
     "end_time": "2021-03-05T19:35:01.902764",
     "exception": false,
     "start_time": "2021-03-05T19:35:01.726460",
     "status": "completed"
    },
    "tags": []
   },
   "source": [
    "# Support Vector Machine"
   ]
  },
  {
   "cell_type": "code",
   "execution_count": 60,
   "metadata": {
    "execution": {
     "iopub.execute_input": "2021-03-05T19:35:02.260565Z",
     "iopub.status.busy": "2021-03-05T19:35:02.259849Z",
     "iopub.status.idle": "2021-03-05T19:35:14.958231Z",
     "shell.execute_reply": "2021-03-05T19:35:14.957576Z"
    },
    "papermill": {
     "duration": 12.879545,
     "end_time": "2021-03-05T19:35:14.958379",
     "exception": false,
     "start_time": "2021-03-05T19:35:02.078834",
     "status": "completed"
    },
    "tags": []
   },
   "outputs": [
    {
     "name": "stdout",
     "output_type": "stream",
     "text": [
      "+----------+--------+--------------------+\n",
      "|prediction|Survived|            features|\n",
      "+----------+--------+--------------------+\n",
      "|       0.0|       0|(10,[0,1,4,6,8],[...|\n",
      "|       0.0|       0|(10,[0,1,4,6,8],[...|\n",
      "|       0.0|       0|(10,[0,1,4,6],[1....|\n",
      "|       0.0|       0|(10,[0,1,2,4,5],[...|\n",
      "|       0.0|       0|(10,[0,1,4,6,8],[...|\n",
      "|       0.0|       0|(10,[0,1,2,4,5],[...|\n",
      "|       0.0|       0|(10,[0,1,6],[1.0,...|\n",
      "|       0.0|       0|(10,[0,1,4,6],[1....|\n",
      "|       0.0|       0|(10,[0,1,4,6],[1....|\n",
      "|       0.0|       0|(10,[0,1,4,6],[1....|\n",
      "|       0.0|       0|(10,[0,1,4,6],[1....|\n",
      "|       0.0|       0|(10,[0,1,2,4,5],[...|\n",
      "|       0.0|       0|(10,[0,1,3,4,5],[...|\n",
      "|       0.0|       0|(10,[0,1,2,4,5],[...|\n",
      "|       0.0|       0|(10,[0,1,4,6],[1....|\n",
      "|       0.0|       0|[1.0,58.0,0.0,2.0...|\n",
      "|       0.0|       0|(10,[0,1,4,6],[1....|\n",
      "|       0.0|       0|(10,[0,1,4,6],[1....|\n",
      "|       0.0|       0|(10,[0,1,4,6,8],[...|\n",
      "|       0.0|       0|[2.0,19.0,1.0,1.0...|\n",
      "+----------+--------+--------------------+\n",
      "only showing top 20 rows\n",
      "\n"
     ]
    }
   ],
   "source": [
    "from pyspark.ml.classification import LinearSVC\n",
    "svm = LinearSVC(labelCol=\"Survived\", featuresCol=\"features\")\n",
    "svm_model = svm.fit(trainingData)\n",
    "svm_prediction = svm_model.transform(testData)\n",
    "svm_prediction.select(\"prediction\", \"Survived\", \"features\").show()"
   ]
  },
  {
   "cell_type": "code",
   "execution_count": 61,
   "metadata": {
    "execution": {
     "iopub.execute_input": "2021-03-05T19:35:15.333690Z",
     "iopub.status.busy": "2021-03-05T19:35:15.332949Z",
     "iopub.status.idle": "2021-03-05T19:35:15.898990Z",
     "shell.execute_reply": "2021-03-05T19:35:15.898384Z"
    },
    "papermill": {
     "duration": 0.760565,
     "end_time": "2021-03-05T19:35:15.899141",
     "exception": false,
     "start_time": "2021-03-05T19:35:15.138576",
     "status": "completed"
    },
    "tags": []
   },
   "outputs": [
    {
     "name": "stdout",
     "output_type": "stream",
     "text": [
      "Accuracy of Support Vector Machine is = 0.808511\n",
      "Test Error of Support Vector Machine = 0.191489 \n"
     ]
    }
   ],
   "source": [
    "svm_accuracy = evaluator.evaluate(svm_prediction)\n",
    "print(\"Accuracy of Support Vector Machine is = %g\"% (svm_accuracy))\n",
    "print(\"Test Error of Support Vector Machine = %g \" % (1.0 - svm_accuracy))"
   ]
  },
  {
   "cell_type": "markdown",
   "metadata": {
    "papermill": {
     "duration": 0.174576,
     "end_time": "2021-03-05T19:35:16.254211",
     "exception": false,
     "start_time": "2021-03-05T19:35:16.079635",
     "status": "completed"
    },
    "tags": []
   },
   "source": [
    "# ------------------------------------------------------------------"
   ]
  }
 ],
 "metadata": {
  "kernelspec": {
   "display_name": "Python 3",
   "language": "python",
   "name": "python3"
  },
  "language_info": {
   "codemirror_mode": {
    "name": "ipython",
    "version": 3
   },
   "file_extension": ".py",
   "mimetype": "text/x-python",
   "name": "python",
   "nbconvert_exporter": "python",
   "pygments_lexer": "ipython3",
   "version": "3.8.5"
  },
  "papermill": {
   "default_parameters": {},
   "duration": 160.354478,
   "end_time": "2021-03-05T19:35:17.241502",
   "environment_variables": {},
   "exception": null,
   "input_path": "__notebook__.ipynb",
   "output_path": "__notebook__.ipynb",
   "parameters": {},
   "start_time": "2021-03-05T19:32:36.887024",
   "version": "2.2.2"
  }
 },
 "nbformat": 4,
 "nbformat_minor": 4
}
